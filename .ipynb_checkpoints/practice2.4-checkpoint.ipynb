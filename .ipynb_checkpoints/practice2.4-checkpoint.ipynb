{
 "cells": [
  {
   "cell_type": "code",
   "execution_count": 23,
   "metadata": {},
   "outputs": [
    {
     "name": "stdout",
     "output_type": "stream",
     "text": [
      "[1] 55\n"
     ]
    }
   ],
   "source": [
    "vector <- c(1:10)\n",
    "    if (is.numeric(vector)) {\n",
    "        sum.A <-sum(vector)\n",
    "        print(sum.A)\n",
    "    } else {\n",
    "        print(\"none\")\n",
    "    }"
   ]
  },
  {
   "cell_type": "code",
   "execution_count": 1,
   "metadata": {},
   "outputs": [
    {
     "name": "stdout",
     "output_type": "stream",
     "text": [
      "[1] 3\n",
      "[1] 3\n"
     ]
    }
   ],
   "source": [
    "Func <- function() {\n",
    "answer <-FALSE\n",
    "for (i in c(1:1000)){\n",
    "    num <- sample(1:10, 1)\n",
    "    #print(paste(\"answer is\",num))\n",
    "    if (num == 5) {\n",
    "        answer <- i\n",
    "        break\n",
    "        }\n",
    "    }\n",
    "print (answer)\n",
    "}\n",
    "print(Func())"
   ]
  },
  {
   "cell_type": "code",
   "execution_count": null,
   "metadata": {},
   "outputs": [],
   "source": []
  }
 ],
 "metadata": {
  "kernelspec": {
   "display_name": "R",
   "language": "R",
   "name": "ir"
  },
  "language_info": {
   "codemirror_mode": "r",
   "file_extension": ".r",
   "mimetype": "text/x-r-source",
   "name": "R",
   "pygments_lexer": "r",
   "version": "3.5.1"
  }
 },
 "nbformat": 4,
 "nbformat_minor": 2
}
