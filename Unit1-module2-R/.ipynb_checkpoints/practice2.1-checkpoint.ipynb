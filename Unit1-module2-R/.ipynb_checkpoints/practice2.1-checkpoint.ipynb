{
 "cells": [
  {
   "cell_type": "code",
   "execution_count": 1,
   "metadata": {},
   "outputs": [
    {
     "data": {
      "text/html": [
       "'/Users/yinyiming/Applied-Bioinformatics-HW/Unit1-module2-R'"
      ],
      "text/latex": [
       "'/Users/yinyiming/Applied-Bioinformatics-HW/Unit1-module2-R'"
      ],
      "text/markdown": [
       "'/Users/yinyiming/Applied-Bioinformatics-HW/Unit1-module2-R'"
      ],
      "text/plain": [
       "[1] \"/Users/yinyiming/Applied-Bioinformatics-HW/Unit1-module2-R\""
      ]
     },
     "metadata": {},
     "output_type": "display_data"
    }
   ],
   "source": [
    "getwd()"
   ]
  },
  {
   "cell_type": "code",
   "execution_count": 5,
   "metadata": {},
   "outputs": [
    {
     "data": {
      "text/html": [
       "<ol class=list-inline>\n",
       "\t<li>1</li>\n",
       "\t<li>2</li>\n",
       "\t<li>3</li>\n",
       "\t<li>4</li>\n",
       "\t<li>5</li>\n",
       "</ol>\n"
      ],
      "text/latex": [
       "\\begin{enumerate*}\n",
       "\\item 1\n",
       "\\item 2\n",
       "\\item 3\n",
       "\\item 4\n",
       "\\item 5\n",
       "\\end{enumerate*}\n"
      ],
      "text/markdown": [
       "1. 1\n",
       "2. 2\n",
       "3. 3\n",
       "4. 4\n",
       "5. 5\n",
       "\n",
       "\n"
      ],
      "text/plain": [
       "[1] 1 2 3 4 5"
      ]
     },
     "metadata": {},
     "output_type": "display_data"
    }
   ],
   "source": [
    "my.number <- c(1,2,3,4,5)\n",
    "my.number"
   ]
  },
  {
   "cell_type": "code",
   "execution_count": 6,
   "metadata": {},
   "outputs": [
    {
     "data": {
      "text/html": [
       "<table>\n",
       "<tbody>\n",
       "\t<tr><td> 1 </td><td>11 </td><td>21 </td><td>31 </td><td>41 </td><td>51 </td><td>61 </td><td>71 </td><td>81 </td><td> 91</td></tr>\n",
       "\t<tr><td> 2 </td><td>12 </td><td>22 </td><td>32 </td><td>42 </td><td>52 </td><td>62 </td><td>72 </td><td>82 </td><td> 92</td></tr>\n",
       "\t<tr><td> 3 </td><td>13 </td><td>23 </td><td>33 </td><td>43 </td><td>53 </td><td>63 </td><td>73 </td><td>83 </td><td> 93</td></tr>\n",
       "\t<tr><td> 4 </td><td>14 </td><td>24 </td><td>34 </td><td>44 </td><td>54 </td><td>64 </td><td>74 </td><td>84 </td><td> 94</td></tr>\n",
       "\t<tr><td> 5 </td><td>15 </td><td>25 </td><td>35 </td><td>45 </td><td>55 </td><td>65 </td><td>75 </td><td>85 </td><td> 95</td></tr>\n",
       "\t<tr><td> 6 </td><td>16 </td><td>26 </td><td>36 </td><td>46 </td><td>56 </td><td>66 </td><td>76 </td><td>86 </td><td> 96</td></tr>\n",
       "\t<tr><td> 7 </td><td>17 </td><td>27 </td><td>37 </td><td>47 </td><td>57 </td><td>67 </td><td>77 </td><td>87 </td><td> 97</td></tr>\n",
       "\t<tr><td> 8 </td><td>18 </td><td>28 </td><td>38 </td><td>48 </td><td>58 </td><td>68 </td><td>78 </td><td>88 </td><td> 98</td></tr>\n",
       "\t<tr><td> 9 </td><td>19 </td><td>29 </td><td>39 </td><td>49 </td><td>59 </td><td>69 </td><td>79 </td><td>89 </td><td> 99</td></tr>\n",
       "\t<tr><td>10 </td><td>20 </td><td>30 </td><td>40 </td><td>50 </td><td>60 </td><td>70 </td><td>80 </td><td>90 </td><td>100</td></tr>\n",
       "</tbody>\n",
       "</table>\n"
      ],
      "text/latex": [
       "\\begin{tabular}{llllllllll}\n",
       "\t  1  & 11  & 21  & 31  & 41  & 51  & 61  & 71  & 81  &  91\\\\\n",
       "\t  2  & 12  & 22  & 32  & 42  & 52  & 62  & 72  & 82  &  92\\\\\n",
       "\t  3  & 13  & 23  & 33  & 43  & 53  & 63  & 73  & 83  &  93\\\\\n",
       "\t  4  & 14  & 24  & 34  & 44  & 54  & 64  & 74  & 84  &  94\\\\\n",
       "\t  5  & 15  & 25  & 35  & 45  & 55  & 65  & 75  & 85  &  95\\\\\n",
       "\t  6  & 16  & 26  & 36  & 46  & 56  & 66  & 76  & 86  &  96\\\\\n",
       "\t  7  & 17  & 27  & 37  & 47  & 57  & 67  & 77  & 87  &  97\\\\\n",
       "\t  8  & 18  & 28  & 38  & 48  & 58  & 68  & 78  & 88  &  98\\\\\n",
       "\t  9  & 19  & 29  & 39  & 49  & 59  & 69  & 79  & 89  &  99\\\\\n",
       "\t 10  & 20  & 30  & 40  & 50  & 60  & 70  & 80  & 90  & 100\\\\\n",
       "\\end{tabular}\n"
      ],
      "text/markdown": [
       "\n",
       "|  1  | 11  | 21  | 31  | 41  | 51  | 61  | 71  | 81  |  91 | \n",
       "|  2  | 12  | 22  | 32  | 42  | 52  | 62  | 72  | 82  |  92 | \n",
       "|  3  | 13  | 23  | 33  | 43  | 53  | 63  | 73  | 83  |  93 | \n",
       "|  4  | 14  | 24  | 34  | 44  | 54  | 64  | 74  | 84  |  94 | \n",
       "|  5  | 15  | 25  | 35  | 45  | 55  | 65  | 75  | 85  |  95 | \n",
       "|  6  | 16  | 26  | 36  | 46  | 56  | 66  | 76  | 86  |  96 | \n",
       "|  7  | 17  | 27  | 37  | 47  | 57  | 67  | 77  | 87  |  97 | \n",
       "|  8  | 18  | 28  | 38  | 48  | 58  | 68  | 78  | 88  |  98 | \n",
       "|  9  | 19  | 29  | 39  | 49  | 59  | 69  | 79  | 89  |  99 | \n",
       "| 10  | 20  | 30  | 40  | 50  | 60  | 70  | 80  | 90  | 100 | \n",
       "\n",
       "\n"
      ],
      "text/plain": [
       "      [,1] [,2] [,3] [,4] [,5] [,6] [,7] [,8] [,9] [,10]\n",
       " [1,]  1   11   21   31   41   51   61   71   81    91  \n",
       " [2,]  2   12   22   32   42   52   62   72   82    92  \n",
       " [3,]  3   13   23   33   43   53   63   73   83    93  \n",
       " [4,]  4   14   24   34   44   54   64   74   84    94  \n",
       " [5,]  5   15   25   35   45   55   65   75   85    95  \n",
       " [6,]  6   16   26   36   46   56   66   76   86    96  \n",
       " [7,]  7   17   27   37   47   57   67   77   87    97  \n",
       " [8,]  8   18   28   38   48   58   68   78   88    98  \n",
       " [9,]  9   19   29   39   49   59   69   79   89    99  \n",
       "[10,] 10   20   30   40   50   60   70   80   90   100  "
      ]
     },
     "metadata": {},
     "output_type": "display_data"
    }
   ],
   "source": [
    "my.matrix <- matrix(1:100, nrow=10, ncol=10)\n",
    "my.matrix"
   ]
  },
  {
   "cell_type": "code",
   "execution_count": 28,
   "metadata": {},
   "outputs": [
    {
     "data": {
      "text/html": [
       "<table>\n",
       "<thead><tr><th scope=col>animal.name</th><th scope=col>animal.number</th><th scope=col>animal.weight</th><th scope=col>animal.treated</th><th scope=col>animal.gender</th></tr></thead>\n",
       "<tbody>\n",
       "\t<tr><td>Fluf1 </td><td>7103  </td><td>19    </td><td> TRUE </td><td>Female</td></tr>\n",
       "\t<tr><td>Fluf2 </td><td>7104  </td><td>18    </td><td> TRUE </td><td>Female</td></tr>\n",
       "\t<tr><td>Fluf3 </td><td>7105  </td><td>23    </td><td>FALSE </td><td>Male  </td></tr>\n",
       "\t<tr><td>Fluf4 </td><td>7106  </td><td>22    </td><td>FALSE </td><td>Male  </td></tr>\n",
       "\t<tr><td>Fluf5 </td><td>7107  </td><td>17    </td><td> TRUE </td><td>Female</td></tr>\n",
       "\t<tr><td>Fluf6 </td><td>7108  </td><td>18    </td><td>FALSE </td><td>Female</td></tr>\n",
       "\t<tr><td>Fluf7 </td><td>7109  </td><td>21    </td><td> TRUE </td><td>Male  </td></tr>\n",
       "\t<tr><td>Fluf8 </td><td>7110  </td><td>20    </td><td>FALSE </td><td>Male  </td></tr>\n",
       "</tbody>\n",
       "</table>\n"
      ],
      "text/latex": [
       "\\begin{tabular}{r|lllll}\n",
       " animal.name & animal.number & animal.weight & animal.treated & animal.gender\\\\\n",
       "\\hline\n",
       "\t Fluf1  & 7103   & 19     &  TRUE  & Female\\\\\n",
       "\t Fluf2  & 7104   & 18     &  TRUE  & Female\\\\\n",
       "\t Fluf3  & 7105   & 23     & FALSE  & Male  \\\\\n",
       "\t Fluf4  & 7106   & 22     & FALSE  & Male  \\\\\n",
       "\t Fluf5  & 7107   & 17     &  TRUE  & Female\\\\\n",
       "\t Fluf6  & 7108   & 18     & FALSE  & Female\\\\\n",
       "\t Fluf7  & 7109   & 21     &  TRUE  & Male  \\\\\n",
       "\t Fluf8  & 7110   & 20     & FALSE  & Male  \\\\\n",
       "\\end{tabular}\n"
      ],
      "text/markdown": [
       "\n",
       "animal.name | animal.number | animal.weight | animal.treated | animal.gender | \n",
       "|---|---|---|---|---|---|---|---|\n",
       "| Fluf1  | 7103   | 19     |  TRUE  | Female | \n",
       "| Fluf2  | 7104   | 18     |  TRUE  | Female | \n",
       "| Fluf3  | 7105   | 23     | FALSE  | Male   | \n",
       "| Fluf4  | 7106   | 22     | FALSE  | Male   | \n",
       "| Fluf5  | 7107   | 17     |  TRUE  | Female | \n",
       "| Fluf6  | 7108   | 18     | FALSE  | Female | \n",
       "| Fluf7  | 7109   | 21     |  TRUE  | Male   | \n",
       "| Fluf8  | 7110   | 20     | FALSE  | Male   | \n",
       "\n",
       "\n"
      ],
      "text/plain": [
       "  animal.name animal.number animal.weight animal.treated animal.gender\n",
       "1 Fluf1       7103          19             TRUE          Female       \n",
       "2 Fluf2       7104          18             TRUE          Female       \n",
       "3 Fluf3       7105          23            FALSE          Male         \n",
       "4 Fluf4       7106          22            FALSE          Male         \n",
       "5 Fluf5       7107          17             TRUE          Female       \n",
       "6 Fluf6       7108          18            FALSE          Female       \n",
       "7 Fluf7       7109          21             TRUE          Male         \n",
       "8 Fluf8       7110          20            FALSE          Male         "
      ]
     },
     "metadata": {},
     "output_type": "display_data"
    }
   ],
   "source": [
    "animal.name <- c(\"Fluf1\", \"Fluf2\", \"Fluf3\", \"Fluf4\", \"Fluf5\", \"Fluf6\", \"Fluf7\", \"Fluf8\")\n",
    "animal.number <- c(7103,7104,7105,7106,7107,7108,7109,7110)\n",
    "animal.weight <- c(19,18,23,22,17,18,21,20)\n",
    "animal.treated <- c(TRUE, TRUE, FALSE, FALSE, TRUE, FALSE, TRUE, FALSE)\n",
    "animal.gender <- c(\"Female\", \"Female\", \"Male\", \"Male\", \"Female\", \"Female\", \"Male\", \"Male\")\n",
    "df.animal <- data.frame(animal.name, animal.number, animal.weight, animal.treated, animal.gender)\n",
    "df.animal"
   ]
  },
  {
   "cell_type": "code",
   "execution_count": 31,
   "metadata": {},
   "outputs": [
    {
     "data": {
      "text/html": [
       "<table>\n",
       "<thead><tr><th scope=col>name</th><th scope=col>number</th><th scope=col>weight</th><th scope=col>treated</th><th scope=col>gender</th></tr></thead>\n",
       "<tbody>\n",
       "\t<tr><td>Fluf1 </td><td>7103  </td><td>19    </td><td> TRUE </td><td>Female</td></tr>\n",
       "\t<tr><td>Fluf2 </td><td>7104  </td><td>18    </td><td> TRUE </td><td>Female</td></tr>\n",
       "\t<tr><td>Fluf3 </td><td>7105  </td><td>23    </td><td>FALSE </td><td>Male  </td></tr>\n",
       "\t<tr><td>Fluf4 </td><td>7106  </td><td>22    </td><td>FALSE </td><td>Male  </td></tr>\n",
       "\t<tr><td>Fluf5 </td><td>7107  </td><td>17    </td><td> TRUE </td><td>Female</td></tr>\n",
       "\t<tr><td>Fluf6 </td><td>7108  </td><td>18    </td><td>FALSE </td><td>Female</td></tr>\n",
       "\t<tr><td>Fluf7 </td><td>7109  </td><td>21    </td><td> TRUE </td><td>Male  </td></tr>\n",
       "\t<tr><td>Fluf8 </td><td>7110  </td><td>20    </td><td>FALSE </td><td>Male  </td></tr>\n",
       "</tbody>\n",
       "</table>\n"
      ],
      "text/latex": [
       "\\begin{tabular}{r|lllll}\n",
       " name & number & weight & treated & gender\\\\\n",
       "\\hline\n",
       "\t Fluf1  & 7103   & 19     &  TRUE  & Female\\\\\n",
       "\t Fluf2  & 7104   & 18     &  TRUE  & Female\\\\\n",
       "\t Fluf3  & 7105   & 23     & FALSE  & Male  \\\\\n",
       "\t Fluf4  & 7106   & 22     & FALSE  & Male  \\\\\n",
       "\t Fluf5  & 7107   & 17     &  TRUE  & Female\\\\\n",
       "\t Fluf6  & 7108   & 18     & FALSE  & Female\\\\\n",
       "\t Fluf7  & 7109   & 21     &  TRUE  & Male  \\\\\n",
       "\t Fluf8  & 7110   & 20     & FALSE  & Male  \\\\\n",
       "\\end{tabular}\n"
      ],
      "text/markdown": [
       "\n",
       "name | number | weight | treated | gender | \n",
       "|---|---|---|---|---|---|---|---|\n",
       "| Fluf1  | 7103   | 19     |  TRUE  | Female | \n",
       "| Fluf2  | 7104   | 18     |  TRUE  | Female | \n",
       "| Fluf3  | 7105   | 23     | FALSE  | Male   | \n",
       "| Fluf4  | 7106   | 22     | FALSE  | Male   | \n",
       "| Fluf5  | 7107   | 17     |  TRUE  | Female | \n",
       "| Fluf6  | 7108   | 18     | FALSE  | Female | \n",
       "| Fluf7  | 7109   | 21     |  TRUE  | Male   | \n",
       "| Fluf8  | 7110   | 20     | FALSE  | Male   | \n",
       "\n",
       "\n"
      ],
      "text/plain": [
       "  name  number weight treated gender\n",
       "1 Fluf1 7103   19      TRUE   Female\n",
       "2 Fluf2 7104   18      TRUE   Female\n",
       "3 Fluf3 7105   23     FALSE   Male  \n",
       "4 Fluf4 7106   22     FALSE   Male  \n",
       "5 Fluf5 7107   17      TRUE   Female\n",
       "6 Fluf6 7108   18     FALSE   Female\n",
       "7 Fluf7 7109   21      TRUE   Male  \n",
       "8 Fluf8 7110   20     FALSE   Male  "
      ]
     },
     "metadata": {},
     "output_type": "display_data"
    }
   ],
   "source": [
    "names(df.animal) <- c(\"name\",\"number\",\"weight\",\"treated\",\"gender\")\n",
    "df.animal"
   ]
  },
  {
   "cell_type": "code",
   "execution_count": 33,
   "metadata": {},
   "outputs": [
    {
     "data": {
      "text/html": [
       "<dl class=dl-horizontal>\n",
       "\t<dt>Female</dt>\n",
       "\t\t<dd>4</dd>\n",
       "\t<dt>Male</dt>\n",
       "\t\t<dd>4</dd>\n",
       "</dl>\n"
      ],
      "text/latex": [
       "\\begin{description*}\n",
       "\\item[Female] 4\n",
       "\\item[Male] 4\n",
       "\\end{description*}\n"
      ],
      "text/markdown": [
       "Female\n",
       ":   4Male\n",
       ":   4\n",
       "\n"
      ],
      "text/plain": [
       "Female   Male \n",
       "     4      4 "
      ]
     },
     "metadata": {},
     "output_type": "display_data"
    }
   ],
   "source": [
    "gender <- c(\"Female\", \"Female\", \"Male\", \"Male\", \"Female\", \"Female\", \"Male\", \"Male\")\n",
    "gender <- factor(gender)\n",
    "summary(gender)"
   ]
  }
 ],
 "metadata": {
  "kernelspec": {
   "display_name": "R",
   "language": "R",
   "name": "ir"
  },
  "language_info": {
   "codemirror_mode": "r",
   "file_extension": ".r",
   "mimetype": "text/x-r-source",
   "name": "R",
   "pygments_lexer": "r",
   "version": "3.5.1"
  }
 },
 "nbformat": 4,
 "nbformat_minor": 2
}
