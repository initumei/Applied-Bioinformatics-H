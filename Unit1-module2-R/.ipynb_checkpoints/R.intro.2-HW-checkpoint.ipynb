{
 "cells": [
  {
   "cell_type": "markdown",
   "metadata": {},
   "source": [
    "# R intro\n",
    "Huitian Diao\n",
    "* Reference: \n",
    "* Quick-R by DataCamp\n",
    "* R for Beginners by emmanuel Paradis"
   ]
  },
  {
   "cell_type": "markdown",
   "metadata": {},
   "source": [
    "## Data operations"
   ]
  },
  {
   "cell_type": "markdown",
   "metadata": {},
   "source": [
    "### 1. Operators"
   ]
  },
  {
   "cell_type": "markdown",
   "metadata": {},
   "source": [
    "#### 1.1 Arithemetic operators\n",
    "```\n",
    "x+y\n",
    "x-y\n",
    "x*y\n",
    "x/y\n",
    "x**y # exponentiation\n",
    "x%%y # modulus\n",
    "x%/%y # integer division\n",
    "```"
   ]
  },
  {
   "cell_type": "code",
   "execution_count": 6,
   "metadata": {},
   "outputs": [
    {
     "data": {
      "text/html": [
       "8"
      ],
      "text/latex": [
       "8"
      ],
      "text/markdown": [
       "8"
      ],
      "text/plain": [
       "[1] 8"
      ]
     },
     "metadata": {},
     "output_type": "display_data"
    }
   ],
   "source": [
    "# Try the calculations!\n",
    "x <- 3\n",
    "y <- 5\n",
    "z <- x + y\n",
    "z"
   ]
  },
  {
   "cell_type": "markdown",
   "metadata": {},
   "source": [
    "#### 1.2 Logical operators\n",
    "##### Comparisons:\n",
    "```\n",
    "<\n",
    ">\n",
    "<=\n",
    ">=\n",
    "==\n",
    "!=\n",
    "```"
   ]
  },
  {
   "cell_type": "code",
   "execution_count": 11,
   "metadata": {},
   "outputs": [
    {
     "data": {
      "text/html": [
       "FALSE"
      ],
      "text/latex": [
       "FALSE"
      ],
      "text/markdown": [
       "FALSE"
      ],
      "text/plain": [
       "[1] FALSE"
      ]
     },
     "metadata": {},
     "output_type": "display_data"
    }
   ],
   "source": [
    "# Try comparisons!\n",
    "x <- 5\n",
    "y <- 11\n",
    "z <- x > y\n",
    "z"
   ]
  },
  {
   "cell_type": "markdown",
   "metadata": {},
   "source": [
    "##### Logical operations:\n",
    "```\n",
    "!\n",
    "|\n",
    "&\n",
    "isTRUE()\n",
    "```"
   ]
  },
  {
   "cell_type": "code",
   "execution_count": 13,
   "metadata": {},
   "outputs": [
    {
     "data": {
      "text/html": [
       "FALSE"
      ],
      "text/latex": [
       "FALSE"
      ],
      "text/markdown": [
       "FALSE"
      ],
      "text/plain": [
       "[1] FALSE"
      ]
     },
     "metadata": {},
     "output_type": "display_data"
    }
   ],
   "source": [
    "# Try logical operators!\n",
    "like.chocolate <- TRUE\n",
    "like.spam <- FALSE\n",
    "!like.chocolate"
   ]
  },
  {
   "cell_type": "markdown",
   "metadata": {},
   "source": [
    "#### 1.3 Built-in functions"
   ]
  },
  {
   "cell_type": "markdown",
   "metadata": {},
   "source": [
    "##### Math built-in functions"
   ]
  },
  {
   "cell_type": "code",
   "execution_count": 15,
   "metadata": {},
   "outputs": [
    {
     "data": {
      "text/html": [
       "16"
      ],
      "text/latex": [
       "16"
      ],
      "text/markdown": [
       "16"
      ],
      "text/plain": [
       "[1] 16"
      ]
     },
     "metadata": {},
     "output_type": "display_data"
    },
    {
     "data": {
      "text/html": [
       "4"
      ],
      "text/latex": [
       "4"
      ],
      "text/markdown": [
       "4"
      ],
      "text/plain": [
       "[1] 4"
      ]
     },
     "metadata": {},
     "output_type": "display_data"
    },
    {
     "data": {
      "text/html": [
       "2"
      ],
      "text/latex": [
       "2"
      ],
      "text/markdown": [
       "2"
      ],
      "text/plain": [
       "[1] 2"
      ]
     },
     "metadata": {},
     "output_type": "display_data"
    },
    {
     "data": {
      "text/html": [
       "-3"
      ],
      "text/latex": [
       "-3"
      ],
      "text/markdown": [
       "-3"
      ],
      "text/plain": [
       "[1] -3"
      ]
     },
     "metadata": {},
     "output_type": "display_data"
    },
    {
     "data": {
      "text/html": [
       "-2"
      ],
      "text/latex": [
       "-2"
      ],
      "text/markdown": [
       "-2"
      ],
      "text/plain": [
       "[1] -2"
      ]
     },
     "metadata": {},
     "output_type": "display_data"
    },
    {
     "data": {
      "text/html": [
       "1.24"
      ],
      "text/latex": [
       "1.24"
      ],
      "text/markdown": [
       "1.24"
      ],
      "text/plain": [
       "[1] 1.24"
      ]
     },
     "metadata": {},
     "output_type": "display_data"
    },
    {
     "data": {
      "text/html": [
       "1.2"
      ],
      "text/latex": [
       "1.2"
      ],
      "text/markdown": [
       "1.2"
      ],
      "text/plain": [
       "[1] 1.2"
      ]
     },
     "metadata": {},
     "output_type": "display_data"
    },
    {
     "data": {
      "text/html": [
       "-0.957659480323385"
      ],
      "text/latex": [
       "-0.957659480323385"
      ],
      "text/markdown": [
       "-0.957659480323385"
      ],
      "text/plain": [
       "[1] -0.9576595"
      ]
     },
     "metadata": {},
     "output_type": "display_data"
    },
    {
     "data": {
      "text/html": [
       "0.287903316665065"
      ],
      "text/latex": [
       "0.287903316665065"
      ],
      "text/markdown": [
       "0.287903316665065"
      ],
      "text/plain": [
       "[1] 0.2879033"
      ]
     },
     "metadata": {},
     "output_type": "display_data"
    },
    {
     "data": {
      "text/html": [
       "-0.300632242023903"
      ],
      "text/latex": [
       "-0.300632242023903"
      ],
      "text/markdown": [
       "-0.300632242023903"
      ],
      "text/plain": [
       "[1] -0.3006322"
      ]
     },
     "metadata": {},
     "output_type": "display_data"
    },
    {
     "data": {
      "text/html": [
       "0.214304602647005"
      ],
      "text/latex": [
       "0.214304602647005"
      ],
      "text/markdown": [
       "0.214304602647005"
      ],
      "text/plain": [
       "[1] 0.2143046"
      ]
     },
     "metadata": {},
     "output_type": "display_data"
    },
    {
     "data": {
      "text/html": [
       "0.0930713063760635"
      ],
      "text/latex": [
       "0.0930713063760635"
      ],
      "text/markdown": [
       "0.0930713063760635"
      ],
      "text/plain": [
       "[1] 0.09307131"
      ]
     },
     "metadata": {},
     "output_type": "display_data"
    },
    {
     "data": {
      "text/html": [
       "1.12535174719259e-07"
      ],
      "text/latex": [
       "1.12535174719259e-07"
      ],
      "text/markdown": [
       "1.12535174719259e-07"
      ],
      "text/plain": [
       "[1] 1.125352e-07"
      ]
     },
     "metadata": {},
     "output_type": "display_data"
    }
   ],
   "source": [
    "# Have fun with math!\n",
    "x <- -16\n",
    "y <- 1.239\n",
    "z <- -2.251\n",
    "abs(x)\n",
    "sqrt(-x)\n",
    "ceiling(y)\n",
    "floor(z)\n",
    "trunc(z)\n",
    "round(y, digits=2)\n",
    "signif(y, digits=2)\n",
    "cos(x)\n",
    "sin(x)\n",
    "tan(x)\n",
    "log(y)\n",
    "log10(y)\n",
    "exp(x)"
   ]
  },
  {
   "cell_type": "markdown",
   "metadata": {},
   "source": [
    "##### Other useful built-in operators\n",
    "```\n",
    "substr() # Extract part of the string\n",
    "grep() # Search for pattern (It is different from Bash grep!!!)\n",
    "sub() # Replace pattern\n",
    "strsplit() # Split elements fro a string\n",
    "paste() # Concatenate strings\n",
    "toupper() # Convert to upper case\n",
    "tolower() # Convert to lower case\n",
    "```"
   ]
  },
  {
   "cell_type": "code",
   "execution_count": 16,
   "metadata": {},
   "outputs": [
    {
     "data": {
      "text/html": [
       "'Nutel'"
      ],
      "text/latex": [
       "'Nutel'"
      ],
      "text/markdown": [
       "'Nutel'"
      ],
      "text/plain": [
       "[1] \"Nutel\""
      ]
     },
     "metadata": {},
     "output_type": "display_data"
    },
    {
     "data": {
      "text/html": [
       "3"
      ],
      "text/latex": [
       "3"
      ],
      "text/markdown": [
       "3"
      ],
      "text/plain": [
       "[1] 3"
      ]
     },
     "metadata": {},
     "output_type": "display_data"
    },
    {
     "data": {
      "text/html": [
       "'I love cheese. --Nutella'"
      ],
      "text/latex": [
       "'I love cheese. --Nutella'"
      ],
      "text/markdown": [
       "'I love cheese. --Nutella'"
      ],
      "text/plain": [
       "[1] \"I love cheese. --Nutella\""
      ]
     },
     "metadata": {},
     "output_type": "display_data"
    },
    {
     "data": {
      "text/html": [
       "<ol>\n",
       "\t<li><ol class=list-inline>\n",
       "\t<li>'I'</li>\n",
       "\t<li>'love'</li>\n",
       "\t<li>'chocolate.'</li>\n",
       "\t<li>'--Nutella'</li>\n",
       "</ol>\n",
       "</li>\n",
       "</ol>\n"
      ],
      "text/latex": [
       "\\begin{enumerate}\n",
       "\\item \\begin{enumerate*}\n",
       "\\item 'I'\n",
       "\\item 'love'\n",
       "\\item 'chocolate.'\n",
       "\\item '--Nutella'\n",
       "\\end{enumerate*}\n",
       "\n",
       "\\end{enumerate}\n"
      ],
      "text/markdown": [
       "1. 1. 'I'\n",
       "2. 'love'\n",
       "3. 'chocolate.'\n",
       "4. '--Nutella'\n",
       "\n",
       "\n",
       "\n",
       "\n",
       "\n"
      ],
      "text/plain": [
       "[[1]]\n",
       "[1] \"I\"          \"love\"       \"chocolate.\" \"--Nutella\" \n"
      ]
     },
     "metadata": {},
     "output_type": "display_data"
    },
    {
     "data": {
      "text/html": [
       "<ol class=list-inline>\n",
       "\t<li>'1: chocolate'</li>\n",
       "\t<li>'2: peanut'</li>\n",
       "\t<li>'3: cheese'</li>\n",
       "</ol>\n"
      ],
      "text/latex": [
       "\\begin{enumerate*}\n",
       "\\item '1: chocolate'\n",
       "\\item '2: peanut'\n",
       "\\item '3: cheese'\n",
       "\\end{enumerate*}\n"
      ],
      "text/markdown": [
       "1. '1: chocolate'\n",
       "2. '2: peanut'\n",
       "3. '3: cheese'\n",
       "\n",
       "\n"
      ],
      "text/plain": [
       "[1] \"1: chocolate\" \"2: peanut\"    \"3: cheese\"   "
      ]
     },
     "metadata": {},
     "output_type": "display_data"
    },
    {
     "data": {
      "text/html": [
       "'I LOVE CHOCOLATE. --NUTELLA'"
      ],
      "text/latex": [
       "'I LOVE CHOCOLATE. --NUTELLA'"
      ],
      "text/markdown": [
       "'I LOVE CHOCOLATE. --NUTELLA'"
      ],
      "text/plain": [
       "[1] \"I LOVE CHOCOLATE. --NUTELLA\""
      ]
     },
     "metadata": {},
     "output_type": "display_data"
    },
    {
     "data": {
      "text/html": [
       "'i love chocolate. --nutella'"
      ],
      "text/latex": [
       "'i love chocolate. --nutella'"
      ],
      "text/markdown": [
       "'i love chocolate. --nutella'"
      ],
      "text/plain": [
       "[1] \"i love chocolate. --nutella\""
      ]
     },
     "metadata": {},
     "output_type": "display_data"
    }
   ],
   "source": [
    "# Try it out!\n",
    "my.name <- \"Nutella\"\n",
    "my.fav <- c(\"chocolate\", \"peanut\", \"cheese\")\n",
    "my.motto <- \"I love chocolate. --Nutella\"\n",
    "substr(my.name, start=1, stop=5) # Extract from 1st character to 5th character\n",
    "grep(\"cheese\", my.fav) # Find the position of \"cheese\" in the vector\n",
    "sub(\"chocolate\", \"cheese\", my.motto) # Replace \"chocolate\" by \"cheese\" in my.motto\n",
    "strsplit(my.motto, \" \") # Split my.motto by space\n",
    "paste(1:3, my.fav, sep=\": \") # Concatenate elements in vector c(1, 2, 3) with elements in vector my.fav, seprate by \": \"\n",
    "toupper(my.motto)\n",
    "tolower(my.motto)"
   ]
  },
  {
   "cell_type": "markdown",
   "metadata": {},
   "source": [
    "### 2. Control structures"
   ]
  },
  {
   "cell_type": "markdown",
   "metadata": {},
   "source": [
    "#### 2.1 If-else\n",
    "```\n",
    "# if ... else ...\n",
    "like.peanut <- TRUE\n",
    "if (like.peanut){\n",
    "    print(\"I like peanuts!\")\n",
    "} else {\n",
    "    print(\"What do I like?\")\n",
    "}\n",
    "```"
   ]
  },
  {
   "cell_type": "code",
   "execution_count": 26,
   "metadata": {},
   "outputs": [],
   "source": [
    "# Try if... else ... !"
   ]
  },
  {
   "cell_type": "markdown",
   "metadata": {},
   "source": [
    "```\n",
    "# if .. else if ... else ...\n",
    "like.hay <- FALSE\n",
    "like.cotton <- TRUE\n",
    "if (like.hay){\n",
    "    print(\"I like to build my nest with hay!\")\n",
    "} else if (like.cotton){\n",
    "    print(\"I like to build my nest with cotton!\")\n",
    "} else {\n",
    "    print(\"Ummm.... what should I use...?\")\n",
    "}\n",
    "```"
   ]
  },
  {
   "cell_type": "code",
   "execution_count": 27,
   "metadata": {},
   "outputs": [],
   "source": [
    "# Try if ... else if ... else ... !"
   ]
  },
  {
   "cell_type": "markdown",
   "metadata": {},
   "source": [
    "#### 2.2 for\n",
    "```\n",
    "# Looping a numeric vector\n",
    "for (i in c(1:10)) {\n",
    "    print(\"More chocolate please!\")\n",
    "}\n",
    "```"
   ]
  },
  {
   "cell_type": "code",
   "execution_count": 23,
   "metadata": {},
   "outputs": [],
   "source": [
    "# Try numeric vector for loop!"
   ]
  },
  {
   "cell_type": "markdown",
   "metadata": {},
   "source": [
    "```\n",
    "# Looping a character vector\n",
    "my.fav <- c(\"chocolate\", \"peanut\", \"cheese\")\n",
    "for (i in my.fav) {\n",
    "    out.put <- paste(\"More\", i, \"please!\") # Paste 3 elements into a single string\n",
    "    print(out.put)\n",
    "}\n",
    "```"
   ]
  },
  {
   "cell_type": "code",
   "execution_count": 28,
   "metadata": {},
   "outputs": [],
   "source": [
    "# Try character vector for loop!"
   ]
  },
  {
   "cell_type": "markdown",
   "metadata": {},
   "source": [
    "#### 2.3 while\n",
    "```\n",
    "i <- 0\n",
    "while (i < 10) {\n",
    "    print(\"More chocolate please!\")\n",
    "    i <- i+1 # Super important! Or your while loop will never end...\n",
    "}\n",
    "```"
   ]
  },
  {
   "cell_type": "code",
   "execution_count": 30,
   "metadata": {},
   "outputs": [],
   "source": [
    "# Try while!"
   ]
  },
  {
   "cell_type": "markdown",
   "metadata": {},
   "source": [
    "### 3. Import data\n",
    "##### read.csv()\n",
    "```\n",
    "setwd(\"YOUR/DIRECTORY/TO/Unit1-module2-R\")\n",
    "nav.d14 <- read.csv(\"NAV-D14_DEseq2.csv\", header=TRUE)\n",
    "nav.d14\n",
    "class(nav.d14)\n",
    "```"
   ]
  },
  {
   "cell_type": "code",
   "execution_count": 32,
   "metadata": {},
   "outputs": [],
   "source": [
    "# Try read.csv!"
   ]
  },
  {
   "cell_type": "markdown",
   "metadata": {},
   "source": [
    "### 4. View data\n",
    "```\n",
    "str(nav.d14) # Structure\n",
    "dim(nav.d14) # Dimensions\n",
    "head(nav.d14, n=5) # Top 5 rows\n",
    "tail(nav.d14, n=10) # Bottom 5 rows\n",
    "#levels() # List of levels in a factor vector\n",
    "```"
   ]
  },
  {
   "cell_type": "code",
   "execution_count": 34,
   "metadata": {
    "scrolled": true
   },
   "outputs": [],
   "source": [
    "# Try viewing data!"
   ]
  },
  {
   "cell_type": "markdown",
   "metadata": {},
   "source": [
    "### 3. Subsetting / Merging data"
   ]
  },
  {
   "cell_type": "markdown",
   "metadata": {
    "collapsed": true
   },
   "source": [
    "#### 3.1 Subsetting by column names\n",
    "```\n",
    "nav.d14.sub <- nav.d14[c(\"gene.name\", \"log2FoldChange\", \"pvalue\")]\n",
    "head(nav.d14.sub)\n",
    "```"
   ]
  },
  {
   "cell_type": "code",
   "execution_count": 37,
   "metadata": {},
   "outputs": [],
   "source": [
    "# Try subsetting by column names!"
   ]
  },
  {
   "cell_type": "markdown",
   "metadata": {},
   "source": [
    "#### 3.2  cbind(): merging dataframe vertically\n",
    "```\n",
    "# cbind -- column-bind\n",
    "nav.d14.sub <- cbind(nav.d14.sub, nav.d14[c(\"baseMean\",\"\")]) # For instance you forgot you need baseMean too...\n",
    "head(nav.d14.sub)\n",
    "```"
   ]
  },
  {
   "cell_type": "code",
   "execution_count": 38,
   "metadata": {},
   "outputs": [],
   "source": [
    "# Try cbind()!"
   ]
  },
  {
   "cell_type": "markdown",
   "metadata": {},
   "source": [
    "#### 3.3 subset()\n",
    "```\n",
    "nav.d14.sub.sig.less <- subset(nav.d14.sub, pvalue <= 0.05 & log2FoldChange < 0) # Subsetting by value\n",
    "nav.d14.sub.sig.more <- subset(nav.d14.sub, pvalue <= 0.05 & log2FoldChange > 0)\n",
    "```"
   ]
  },
  {
   "cell_type": "code",
   "execution_count": 39,
   "metadata": {},
   "outputs": [],
   "source": [
    "# Try subset()!"
   ]
  },
  {
   "cell_type": "markdown",
   "metadata": {},
   "source": [
    "#### 3.4 rbind(): merging dataframe horizontally\n",
    "```\n",
    "# rbind -- row-bind\n",
    "nav.d14.sub.sig.all <- rbind(nav.d14.sub.sig.less, nav.d14.sub.sig.more) # Merging rows\n",
    "dim(nav.d14.sub.sig.less)\n",
    "dim(nav.d14.sub.sig.more)\n",
    "dim(nav.d14.sub.sig.all)\n",
    "```"
   ]
  },
  {
   "cell_type": "code",
   "execution_count": 40,
   "metadata": {},
   "outputs": [],
   "source": [
    "# Try rbind()!"
   ]
  },
  {
   "cell_type": "markdown",
   "metadata": {},
   "source": [
    "#### * Change column names\n",
    "```\n",
    "colnames(nav.d14.sub.sig.all) <- c(\"gn\",\"fc\",\"pval\",\"bm\")\n",
    "head(nav.d14.sub.sig.all)\n",
    "```"
   ]
  },
  {
   "cell_type": "code",
   "execution_count": 41,
   "metadata": {},
   "outputs": [],
   "source": [
    "# Try change colnames()!"
   ]
  },
  {
   "cell_type": "markdown",
   "metadata": {},
   "source": [
    "### 4. Sort data: order()\n",
    "```\n",
    "nav.d14.sub.sig.all.srt <- nav.d14.sub.sig.all[order(nav.d14.sub.sig.all$bm),]\n",
    "head(nav.d14.sub.sig.all, n=5)\n",
    "head(nav.d14.sub.sig.all.srt, n=5)\n",
    "```"
   ]
  },
  {
   "cell_type": "code",
   "execution_count": 1,
   "metadata": {
    "scrolled": true
   },
   "outputs": [],
   "source": [
    "# Try order()!"
   ]
  },
  {
   "cell_type": "markdown",
   "metadata": {},
   "source": [
    "### 5. User defined function and apply"
   ]
  },
  {
   "cell_type": "markdown",
   "metadata": {},
   "source": [
    "#### 5.1 User defined function\n",
    "```\n",
    "function.name <- function(x) {\n",
    "...\n",
    "return()\n",
    "}\n",
    "```"
   ]
  },
  {
   "cell_type": "code",
   "execution_count": 1,
   "metadata": {},
   "outputs": [
    {
     "name": "stdout",
     "output_type": "stream",
     "text": [
      "[1] \"Chocolate please!\"\n"
     ]
    }
   ],
   "source": [
    "# Simple function that does only print()\n",
    "requestChocolate <- function(x) {\n",
    "    print(\"Chocolate please!\")\n",
    "}\n",
    "requestChocolate()"
   ]
  },
  {
   "cell_type": "code",
   "execution_count": 2,
   "metadata": {},
   "outputs": [
    {
     "name": "stdout",
     "output_type": "stream",
     "text": [
      "[1] \"Cheese please!\"\n"
     ]
    }
   ],
   "source": [
    "# Function that take a input to print()\n",
    "requestFood <- function(x) {\n",
    "    requested <- paste(x, \" please!\", sep=\"\")\n",
    "    print(requested)\n",
    "}\n",
    "requestFood(\"Cheese\")"
   ]
  },
  {
   "cell_type": "code",
   "execution_count": 3,
   "metadata": {},
   "outputs": [
    {
     "name": "stdout",
     "output_type": "stream",
     "text": [
      "[1] \"Food please!\"\n"
     ]
    },
    {
     "data": {
      "text/html": [
       "TRUE"
      ],
      "text/latex": [
       "TRUE"
      ],
      "text/markdown": [
       "TRUE"
      ],
      "text/plain": [
       "[1] TRUE"
      ]
     },
     "metadata": {},
     "output_type": "display_data"
    }
   ],
   "source": [
    "# Function that take a input and contain if ..., and return a result.\n",
    "needMoreFood <- function(food.weight) {\n",
    "    if (food.weight<10){\n",
    "        print(\"Food please!\")\n",
    "    }\n",
    "    return(TRUE)\n",
    "}\n",
    "food.weight.eval <- needMoreFood(8)\n",
    "food.weight.eval"
   ]
  },
  {
   "cell_type": "markdown",
   "metadata": {
    "collapsed": true
   },
   "source": [
    "##### A function that contain if ... else if ... else ...\n",
    "```\n",
    "# Define a function to evaluate fold change, up-regulation/ down-regulation / no fold change\n",
    "fcEval <- function(x) {\n",
    "    if(x>0){\n",
    "        return(\"UP\")\n",
    "    }\n",
    "    else if(x<0){\n",
    "        return(\"DOWN\")\n",
    "    }\n",
    "    else{\n",
    "        return(\"NONE\")\n",
    "    }\n",
    "}\n",
    "```"
   ]
  },
  {
   "cell_type": "code",
   "execution_count": 17,
   "metadata": {},
   "outputs": [],
   "source": [
    "# Try define the function above!"
   ]
  },
  {
   "cell_type": "markdown",
   "metadata": {},
   "source": [
    "#### 5.2 lapply(): give function to every element of a list and return a list as result\n",
    "Read more about apply: https://www.datacamp.com/community/tutorials/r-tutorial-apply-family\n",
    "```\n",
    "fc.eval.results <- lapply(nav.d14.sub.sig.all$fc,fcEval) # Use lapply to process all the \n",
    "fc.eval.results <- factor(unlist(fc.eval.results)) # Convert list to vector\n",
    "summary(fc.eval.results)\n",
    "```"
   ]
  },
  {
   "cell_type": "code",
   "execution_count": 18,
   "metadata": {},
   "outputs": [],
   "source": [
    "# Try to use your function by apply!"
   ]
  },
  {
   "cell_type": "markdown",
   "metadata": {
    "collapsed": true
   },
   "source": [
    "### 6. Export data"
   ]
  },
  {
   "cell_type": "markdown",
   "metadata": {
    "collapsed": true
   },
   "source": [
    "```\n",
    "write.table(nav.d14.sub.sig.all.srt,row.names=FALSE, \"nav.d14.sub.sig.all.srt.csv\", sep=\",\")\n",
    "```"
   ]
  },
  {
   "cell_type": "code",
   "execution_count": 19,
   "metadata": {},
   "outputs": [],
   "source": [
    "# Try export data!"
   ]
  },
  {
   "cell_type": "markdown",
   "metadata": {},
   "source": [
    "## Homework"
   ]
  },
  {
   "cell_type": "markdown",
   "metadata": {},
   "source": [
    "## 1. Hello world everyday!\n",
    "### 1.1 Make a vector containing days of the week, from Monday to Sunday.\n",
    "### 1.2 Use a for loop to pring \"Hello world XXXday!\" for each day of the week."
   ]
  },
  {
   "cell_type": "markdown",
   "metadata": {},
   "source": [
    "1.1 Make a vector containing days of the week, from Monday to Sunday."
   ]
  },
  {
   "cell_type": "code",
   "execution_count": 1,
   "metadata": {},
   "outputs": [
    {
     "data": {
      "text/html": [
       "<ol class=list-inline>\n",
       "\t<li>'Monday'</li>\n",
       "\t<li>'Tuesday'</li>\n",
       "\t<li>'Wednesday'</li>\n",
       "\t<li>'Thursday'</li>\n",
       "\t<li>'Friday'</li>\n",
       "\t<li>'Saturday'</li>\n",
       "\t<li>'Sunday'</li>\n",
       "</ol>\n"
      ],
      "text/latex": [
       "\\begin{enumerate*}\n",
       "\\item 'Monday'\n",
       "\\item 'Tuesday'\n",
       "\\item 'Wednesday'\n",
       "\\item 'Thursday'\n",
       "\\item 'Friday'\n",
       "\\item 'Saturday'\n",
       "\\item 'Sunday'\n",
       "\\end{enumerate*}\n"
      ],
      "text/markdown": [
       "1. 'Monday'\n",
       "2. 'Tuesday'\n",
       "3. 'Wednesday'\n",
       "4. 'Thursday'\n",
       "5. 'Friday'\n",
       "6. 'Saturday'\n",
       "7. 'Sunday'\n",
       "\n",
       "\n"
      ],
      "text/plain": [
       "[1] \"Monday\"    \"Tuesday\"   \"Wednesday\" \"Thursday\"  \"Friday\"    \"Saturday\" \n",
       "[7] \"Sunday\"   "
      ]
     },
     "metadata": {},
     "output_type": "display_data"
    }
   ],
   "source": [
    "vector <- c(\"Monday\", \"Tuesday\", \"Wednesday\", \"Thursday\", \"Friday\", \"Saturday\", \"Sunday\")\n",
    "vector"
   ]
  },
  {
   "cell_type": "markdown",
   "metadata": {},
   "source": [
    "1.2 Use a for loop to pring \"Hello world XXXday!\" for each day of the week."
   ]
  },
  {
   "cell_type": "code",
   "execution_count": 2,
   "metadata": {},
   "outputs": [
    {
     "name": "stdout",
     "output_type": "stream",
     "text": [
      "[1] \"Hello world Monday\"\n",
      "[1] \"Hello world Tuesday\"\n",
      "[1] \"Hello world Wednesday\"\n",
      "[1] \"Hello world Thursday\"\n",
      "[1] \"Hello world Friday\"\n",
      "[1] \"Hello world Saturday\"\n",
      "[1] \"Hello world Sunday\"\n"
     ]
    }
   ],
   "source": [
    "for (i in vector) {\n",
    "    out.put <- paste(\"Hello world\", i)\n",
    "    print (out.put)\n",
    "   }"
   ]
  },
  {
   "cell_type": "markdown",
   "metadata": {},
   "source": [
    "## 2. The Pie\n",
    "### 2.1 In the first 100 digits of pie, count how many numbers are even. \n",
    "### 2.2 Convert the first 200 digits of pie into a 20x10 matrix\n",
    "Please use the digits of Pie from this website: https://www.piday.org/million/"
   ]
  },
  {
   "cell_type": "markdown",
   "metadata": {},
   "source": [
    "2.1 In the first 100 digits of pie, count how many numbers are even."
   ]
  },
  {
   "cell_type": "code",
   "execution_count": 4,
   "metadata": {},
   "outputs": [
    {
     "name": "stdout",
     "output_type": "stream",
     "text": [
      "[1] 49\n"
     ]
    }
   ],
   "source": [
    "number <- \"314159265358979323846264338327950288419716939937510582097494459230781640628620899862803482534211706798214808651328230664709384460955058223172535940812848111745028410270193852110555964462294895493038196442881097566593344612847564823378678316527120190914564856692346034861045432664821339360726024914127372458700660631558817488152092096282925409171536436789259036001133053054882046652138414695194151160943305727036575959195309218611738193261179310511854807446237996274956735188575272489122793818301194912983367336244065664308602139494639522473719070217986094370277053921717629317675238467481846766940513200056812714526356082778577134275778960917363717872146844090122495343014654958537105079227968925892354201995611212902196086403441815981362977477130996051870721134999999837297804995105973173281609631859502445945534690830264252230825334468503526193118817101000313783875288658753320838142061717766914730359825349042875546873115956286388235378759375195778185778053217122680661300192787661119590921642019893809525720106548586327886593615338182796823030195203530185296899577362259941389124972177528347913151557485724245415069595082953311686172785588907509838175463746493931925506040092770167113900984882401285836160356370766010471018194295559619894676783744944825537977472684710404753464620804668425906949129331367702898915210475216205696602405803815019351125338243003558764024749647326391419927260426992279678235478163600934172164121992458631503028618297455570674983850549458858692699569092721079750930295532116534498720275596023648066549911988183479775356636980742654252786255181841757467289097777279\"\n",
    "#nchar(number)\n",
    "New.number <- strsplit(number,\"\")\n",
    "number.vec <- unlist(New.number)\n",
    "number.vec <- number.vec [number.vec %in% c(1:9)]\n",
    "number.vec.100 <- number.vec[1:100]\n",
    "#number.vec.100\n",
    "a <- as.numeric(number.vec.100)\n",
    "\n",
    "n <- 0\n",
    "for (i in a) {\n",
    "    if (i %% 2 == 0) {\n",
    "        n <- n+1\n",
    "    }\n",
    "        i <- i+1\n",
    "}\n",
    "print(n)"
   ]
  },
  {
   "cell_type": "markdown",
   "metadata": {},
   "source": [
    "2.2 Convert the first 200 digits of pie into a 20x10 matrix"
   ]
  },
  {
   "cell_type": "code",
   "execution_count": 5,
   "metadata": {},
   "outputs": [
    {
     "data": {
      "text/html": [
       "<table>\n",
       "<tbody>\n",
       "\t<tr><td>3</td><td>6</td><td>6</td><td>2</td><td>4</td><td>5</td><td>5</td><td>1</td><td>5</td><td>9</td></tr>\n",
       "\t<tr><td>1</td><td>2</td><td>9</td><td>3</td><td>8</td><td>1</td><td>8</td><td>1</td><td>5</td><td>6</td></tr>\n",
       "\t<tr><td>4</td><td>6</td><td>3</td><td>7</td><td>2</td><td>3</td><td>2</td><td>7</td><td>9</td><td>4</td></tr>\n",
       "\t<tr><td>1</td><td>4</td><td>9</td><td>8</td><td>5</td><td>2</td><td>2</td><td>4</td><td>6</td><td>4</td></tr>\n",
       "\t<tr><td>5</td><td>3</td><td>9</td><td>1</td><td>3</td><td>8</td><td>3</td><td>5</td><td>4</td><td>2</td></tr>\n",
       "\t<tr><td>9</td><td>3</td><td>3</td><td>6</td><td>4</td><td>2</td><td>1</td><td>2</td><td>4</td><td>8</td></tr>\n",
       "\t<tr><td>2</td><td>8</td><td>7</td><td>4</td><td>2</td><td>3</td><td>7</td><td>8</td><td>6</td><td>8</td></tr>\n",
       "\t<tr><td>6</td><td>3</td><td>5</td><td>6</td><td>1</td><td>6</td><td>2</td><td>4</td><td>2</td><td>1</td></tr>\n",
       "\t<tr><td>5</td><td>2</td><td>1</td><td>2</td><td>1</td><td>6</td><td>5</td><td>1</td><td>2</td><td>9</td></tr>\n",
       "\t<tr><td>3</td><td>7</td><td>5</td><td>8</td><td>7</td><td>4</td><td>3</td><td>2</td><td>9</td><td>7</td></tr>\n",
       "\t<tr><td>5</td><td>9</td><td>8</td><td>6</td><td>6</td><td>7</td><td>5</td><td>7</td><td>4</td><td>5</td></tr>\n",
       "\t<tr><td>8</td><td>5</td><td>2</td><td>2</td><td>7</td><td>9</td><td>9</td><td>1</td><td>8</td><td>6</td></tr>\n",
       "\t<tr><td>9</td><td>2</td><td>9</td><td>8</td><td>9</td><td>3</td><td>4</td><td>9</td><td>9</td><td>6</td></tr>\n",
       "\t<tr><td>7</td><td>8</td><td>7</td><td>9</td><td>8</td><td>8</td><td>8</td><td>3</td><td>5</td><td>5</td></tr>\n",
       "\t<tr><td>9</td><td>8</td><td>4</td><td>9</td><td>2</td><td>4</td><td>1</td><td>8</td><td>4</td><td>9</td></tr>\n",
       "\t<tr><td>3</td><td>4</td><td>9</td><td>8</td><td>1</td><td>4</td><td>2</td><td>5</td><td>9</td><td>3</td></tr>\n",
       "\t<tr><td>2</td><td>1</td><td>4</td><td>6</td><td>4</td><td>6</td><td>8</td><td>2</td><td>3</td><td>3</td></tr>\n",
       "\t<tr><td>3</td><td>9</td><td>4</td><td>2</td><td>8</td><td>9</td><td>4</td><td>1</td><td>3</td><td>4</td></tr>\n",
       "\t<tr><td>8</td><td>7</td><td>5</td><td>8</td><td>8</td><td>5</td><td>8</td><td>1</td><td>8</td><td>4</td></tr>\n",
       "\t<tr><td>4</td><td>1</td><td>9</td><td>3</td><td>6</td><td>5</td><td>1</td><td>5</td><td>1</td><td>6</td></tr>\n",
       "</tbody>\n",
       "</table>\n"
      ],
      "text/latex": [
       "\\begin{tabular}{llllllllll}\n",
       "\t 3 & 6 & 6 & 2 & 4 & 5 & 5 & 1 & 5 & 9\\\\\n",
       "\t 1 & 2 & 9 & 3 & 8 & 1 & 8 & 1 & 5 & 6\\\\\n",
       "\t 4 & 6 & 3 & 7 & 2 & 3 & 2 & 7 & 9 & 4\\\\\n",
       "\t 1 & 4 & 9 & 8 & 5 & 2 & 2 & 4 & 6 & 4\\\\\n",
       "\t 5 & 3 & 9 & 1 & 3 & 8 & 3 & 5 & 4 & 2\\\\\n",
       "\t 9 & 3 & 3 & 6 & 4 & 2 & 1 & 2 & 4 & 8\\\\\n",
       "\t 2 & 8 & 7 & 4 & 2 & 3 & 7 & 8 & 6 & 8\\\\\n",
       "\t 6 & 3 & 5 & 6 & 1 & 6 & 2 & 4 & 2 & 1\\\\\n",
       "\t 5 & 2 & 1 & 2 & 1 & 6 & 5 & 1 & 2 & 9\\\\\n",
       "\t 3 & 7 & 5 & 8 & 7 & 4 & 3 & 2 & 9 & 7\\\\\n",
       "\t 5 & 9 & 8 & 6 & 6 & 7 & 5 & 7 & 4 & 5\\\\\n",
       "\t 8 & 5 & 2 & 2 & 7 & 9 & 9 & 1 & 8 & 6\\\\\n",
       "\t 9 & 2 & 9 & 8 & 9 & 3 & 4 & 9 & 9 & 6\\\\\n",
       "\t 7 & 8 & 7 & 9 & 8 & 8 & 8 & 3 & 5 & 5\\\\\n",
       "\t 9 & 8 & 4 & 9 & 2 & 4 & 1 & 8 & 4 & 9\\\\\n",
       "\t 3 & 4 & 9 & 8 & 1 & 4 & 2 & 5 & 9 & 3\\\\\n",
       "\t 2 & 1 & 4 & 6 & 4 & 6 & 8 & 2 & 3 & 3\\\\\n",
       "\t 3 & 9 & 4 & 2 & 8 & 9 & 4 & 1 & 3 & 4\\\\\n",
       "\t 8 & 7 & 5 & 8 & 8 & 5 & 8 & 1 & 8 & 4\\\\\n",
       "\t 4 & 1 & 9 & 3 & 6 & 5 & 1 & 5 & 1 & 6\\\\\n",
       "\\end{tabular}\n"
      ],
      "text/markdown": [
       "\n",
       "| 3 | 6 | 6 | 2 | 4 | 5 | 5 | 1 | 5 | 9 | \n",
       "| 1 | 2 | 9 | 3 | 8 | 1 | 8 | 1 | 5 | 6 | \n",
       "| 4 | 6 | 3 | 7 | 2 | 3 | 2 | 7 | 9 | 4 | \n",
       "| 1 | 4 | 9 | 8 | 5 | 2 | 2 | 4 | 6 | 4 | \n",
       "| 5 | 3 | 9 | 1 | 3 | 8 | 3 | 5 | 4 | 2 | \n",
       "| 9 | 3 | 3 | 6 | 4 | 2 | 1 | 2 | 4 | 8 | \n",
       "| 2 | 8 | 7 | 4 | 2 | 3 | 7 | 8 | 6 | 8 | \n",
       "| 6 | 3 | 5 | 6 | 1 | 6 | 2 | 4 | 2 | 1 | \n",
       "| 5 | 2 | 1 | 2 | 1 | 6 | 5 | 1 | 2 | 9 | \n",
       "| 3 | 7 | 5 | 8 | 7 | 4 | 3 | 2 | 9 | 7 | \n",
       "| 5 | 9 | 8 | 6 | 6 | 7 | 5 | 7 | 4 | 5 | \n",
       "| 8 | 5 | 2 | 2 | 7 | 9 | 9 | 1 | 8 | 6 | \n",
       "| 9 | 2 | 9 | 8 | 9 | 3 | 4 | 9 | 9 | 6 | \n",
       "| 7 | 8 | 7 | 9 | 8 | 8 | 8 | 3 | 5 | 5 | \n",
       "| 9 | 8 | 4 | 9 | 2 | 4 | 1 | 8 | 4 | 9 | \n",
       "| 3 | 4 | 9 | 8 | 1 | 4 | 2 | 5 | 9 | 3 | \n",
       "| 2 | 1 | 4 | 6 | 4 | 6 | 8 | 2 | 3 | 3 | \n",
       "| 3 | 9 | 4 | 2 | 8 | 9 | 4 | 1 | 3 | 4 | \n",
       "| 8 | 7 | 5 | 8 | 8 | 5 | 8 | 1 | 8 | 4 | \n",
       "| 4 | 1 | 9 | 3 | 6 | 5 | 1 | 5 | 1 | 6 | \n",
       "\n",
       "\n"
      ],
      "text/plain": [
       "      [,1] [,2] [,3] [,4] [,5] [,6] [,7] [,8] [,9] [,10]\n",
       " [1,] 3    6    6    2    4    5    5    1    5    9    \n",
       " [2,] 1    2    9    3    8    1    8    1    5    6    \n",
       " [3,] 4    6    3    7    2    3    2    7    9    4    \n",
       " [4,] 1    4    9    8    5    2    2    4    6    4    \n",
       " [5,] 5    3    9    1    3    8    3    5    4    2    \n",
       " [6,] 9    3    3    6    4    2    1    2    4    8    \n",
       " [7,] 2    8    7    4    2    3    7    8    6    8    \n",
       " [8,] 6    3    5    6    1    6    2    4    2    1    \n",
       " [9,] 5    2    1    2    1    6    5    1    2    9    \n",
       "[10,] 3    7    5    8    7    4    3    2    9    7    \n",
       "[11,] 5    9    8    6    6    7    5    7    4    5    \n",
       "[12,] 8    5    2    2    7    9    9    1    8    6    \n",
       "[13,] 9    2    9    8    9    3    4    9    9    6    \n",
       "[14,] 7    8    7    9    8    8    8    3    5    5    \n",
       "[15,] 9    8    4    9    2    4    1    8    4    9    \n",
       "[16,] 3    4    9    8    1    4    2    5    9    3    \n",
       "[17,] 2    1    4    6    4    6    8    2    3    3    \n",
       "[18,] 3    9    4    2    8    9    4    1    3    4    \n",
       "[19,] 8    7    5    8    8    5    8    1    8    4    \n",
       "[20,] 4    1    9    3    6    5    1    5    1    6    "
      ]
     },
     "metadata": {},
     "output_type": "display_data"
    }
   ],
   "source": [
    "number <- c(\"314159265358979323846264338327950288419716939937510582097494459230781640628620899862803482534211706798214808651328230664709384460955058223172535940812848111745028410270193852110555964462294895493038196442881097566593344612847564823378678316527120190914564856692346034861045432664821339360726024914127372458700660631558817488152092096282925409171536436789259036001133053054882046652138414695194151160943305727036575959195309218611738193261179310511854807446237996274956735188575272489122793818301194912983367336244065664308602139494639522473719070217986094370277053921717629317675238467481846766940513200056812714526356082778577134275778960917363717872146844090122495343014654958537105079227968925892354201995611212902196086403441815981362977477130996051870721134999999837297804995105973173281609631859502445945534690830264252230825334468503526193118817101000313783875288658753320838142061717766914730359825349042875546873115956286388235378759375195778185778053217122680661300192787661119590921642019893809525720106548586327886593615338182796823030195203530185296899577362259941389124972177528347913151557485724245415069595082953311686172785588907509838175463746493931925506040092770167113900984882401285836160356370766010471018194295559619894676783744944825537977472684710404753464620804668425906949129331367702898915210475216205696602405803815019351125338243003558764024749647326391419927260426992279678235478163600934172164121992458631503028618297455570674983850549458858692699569092721079750930295532116534498720275596023648066549911988183479775356636980742654252786255181841757467289097777279\")\n",
    "New.number <- strsplit(number,\"\")\n",
    "number.vec <- unlist(New.number)\n",
    "number.vec <- number.vec[number.vec %in% c(1:9)]\n",
    "number.vec.200 <- number.vec[1:200]\n",
    "pie.matrix <- matrix(number.vec.200, nrow=20, ncol=10)\n",
    "pie.matrix"
   ]
  },
  {
   "cell_type": "markdown",
   "metadata": {},
   "source": [
    "## 3. Prime numbers\n",
    "### Find first 500 prime numbers. What is the 500th prime number?"
   ]
  },
  {
   "cell_type": "code",
   "execution_count": 6,
   "metadata": {},
   "outputs": [
    {
     "data": {
      "text/html": [
       "<ol class=list-inline>\n",
       "\t<li>2</li>\n",
       "\t<li>3</li>\n",
       "\t<li>5</li>\n",
       "\t<li>7</li>\n",
       "\t<li>11</li>\n",
       "\t<li>13</li>\n",
       "\t<li>17</li>\n",
       "\t<li>19</li>\n",
       "\t<li>23</li>\n",
       "\t<li>29</li>\n",
       "\t<li>31</li>\n",
       "\t<li>37</li>\n",
       "\t<li>41</li>\n",
       "\t<li>43</li>\n",
       "\t<li>47</li>\n",
       "\t<li>53</li>\n",
       "\t<li>59</li>\n",
       "\t<li>61</li>\n",
       "\t<li>67</li>\n",
       "\t<li>71</li>\n",
       "\t<li>73</li>\n",
       "\t<li>79</li>\n",
       "\t<li>83</li>\n",
       "\t<li>89</li>\n",
       "\t<li>97</li>\n",
       "\t<li>101</li>\n",
       "\t<li>103</li>\n",
       "\t<li>107</li>\n",
       "\t<li>109</li>\n",
       "\t<li>113</li>\n",
       "\t<li>127</li>\n",
       "\t<li>131</li>\n",
       "\t<li>137</li>\n",
       "\t<li>139</li>\n",
       "\t<li>149</li>\n",
       "\t<li>151</li>\n",
       "\t<li>157</li>\n",
       "\t<li>163</li>\n",
       "\t<li>167</li>\n",
       "\t<li>173</li>\n",
       "\t<li>179</li>\n",
       "\t<li>181</li>\n",
       "\t<li>191</li>\n",
       "\t<li>193</li>\n",
       "\t<li>197</li>\n",
       "\t<li>199</li>\n",
       "\t<li>211</li>\n",
       "\t<li>223</li>\n",
       "\t<li>227</li>\n",
       "\t<li>229</li>\n",
       "\t<li>233</li>\n",
       "\t<li>239</li>\n",
       "\t<li>241</li>\n",
       "\t<li>251</li>\n",
       "\t<li>257</li>\n",
       "\t<li>263</li>\n",
       "\t<li>269</li>\n",
       "\t<li>271</li>\n",
       "\t<li>277</li>\n",
       "\t<li>281</li>\n",
       "\t<li>283</li>\n",
       "\t<li>293</li>\n",
       "\t<li>307</li>\n",
       "\t<li>311</li>\n",
       "\t<li>313</li>\n",
       "\t<li>317</li>\n",
       "\t<li>331</li>\n",
       "\t<li>337</li>\n",
       "\t<li>347</li>\n",
       "\t<li>349</li>\n",
       "\t<li>353</li>\n",
       "\t<li>359</li>\n",
       "\t<li>367</li>\n",
       "\t<li>373</li>\n",
       "\t<li>379</li>\n",
       "\t<li>383</li>\n",
       "\t<li>389</li>\n",
       "\t<li>397</li>\n",
       "\t<li>401</li>\n",
       "\t<li>409</li>\n",
       "\t<li>419</li>\n",
       "\t<li>421</li>\n",
       "\t<li>431</li>\n",
       "\t<li>433</li>\n",
       "\t<li>439</li>\n",
       "\t<li>443</li>\n",
       "\t<li>449</li>\n",
       "\t<li>457</li>\n",
       "\t<li>461</li>\n",
       "\t<li>463</li>\n",
       "\t<li>467</li>\n",
       "\t<li>479</li>\n",
       "\t<li>487</li>\n",
       "\t<li>491</li>\n",
       "\t<li>499</li>\n",
       "\t<li>503</li>\n",
       "\t<li>509</li>\n",
       "\t<li>521</li>\n",
       "\t<li>523</li>\n",
       "\t<li>541</li>\n",
       "\t<li>547</li>\n",
       "\t<li>557</li>\n",
       "\t<li>563</li>\n",
       "\t<li>569</li>\n",
       "\t<li>571</li>\n",
       "\t<li>577</li>\n",
       "\t<li>587</li>\n",
       "\t<li>593</li>\n",
       "\t<li>599</li>\n",
       "\t<li>601</li>\n",
       "\t<li>607</li>\n",
       "\t<li>613</li>\n",
       "\t<li>617</li>\n",
       "\t<li>619</li>\n",
       "\t<li>631</li>\n",
       "\t<li>641</li>\n",
       "\t<li>643</li>\n",
       "\t<li>647</li>\n",
       "\t<li>653</li>\n",
       "\t<li>659</li>\n",
       "\t<li>661</li>\n",
       "\t<li>673</li>\n",
       "\t<li>677</li>\n",
       "\t<li>683</li>\n",
       "\t<li>691</li>\n",
       "\t<li>701</li>\n",
       "\t<li>709</li>\n",
       "\t<li>719</li>\n",
       "\t<li>727</li>\n",
       "\t<li>733</li>\n",
       "\t<li>739</li>\n",
       "\t<li>743</li>\n",
       "\t<li>751</li>\n",
       "\t<li>757</li>\n",
       "\t<li>761</li>\n",
       "\t<li>769</li>\n",
       "\t<li>773</li>\n",
       "\t<li>787</li>\n",
       "\t<li>797</li>\n",
       "\t<li>809</li>\n",
       "\t<li>811</li>\n",
       "\t<li>821</li>\n",
       "\t<li>823</li>\n",
       "\t<li>827</li>\n",
       "\t<li>829</li>\n",
       "\t<li>839</li>\n",
       "\t<li>853</li>\n",
       "\t<li>857</li>\n",
       "\t<li>859</li>\n",
       "\t<li>863</li>\n",
       "\t<li>877</li>\n",
       "\t<li>881</li>\n",
       "\t<li>883</li>\n",
       "\t<li>887</li>\n",
       "\t<li>907</li>\n",
       "\t<li>911</li>\n",
       "\t<li>919</li>\n",
       "\t<li>929</li>\n",
       "\t<li>937</li>\n",
       "\t<li>941</li>\n",
       "\t<li>947</li>\n",
       "\t<li>953</li>\n",
       "\t<li>967</li>\n",
       "\t<li>971</li>\n",
       "\t<li>977</li>\n",
       "\t<li>983</li>\n",
       "\t<li>991</li>\n",
       "\t<li>997</li>\n",
       "\t<li>1009</li>\n",
       "\t<li>1013</li>\n",
       "\t<li>1019</li>\n",
       "\t<li>1021</li>\n",
       "\t<li>1031</li>\n",
       "\t<li>1033</li>\n",
       "\t<li>1039</li>\n",
       "\t<li>1049</li>\n",
       "\t<li>1051</li>\n",
       "\t<li>1061</li>\n",
       "\t<li>1063</li>\n",
       "\t<li>1069</li>\n",
       "\t<li>1087</li>\n",
       "\t<li>1091</li>\n",
       "\t<li>1093</li>\n",
       "\t<li>1097</li>\n",
       "\t<li>1103</li>\n",
       "\t<li>1109</li>\n",
       "\t<li>1117</li>\n",
       "\t<li>1123</li>\n",
       "\t<li>1129</li>\n",
       "\t<li>1151</li>\n",
       "\t<li>1153</li>\n",
       "\t<li>1163</li>\n",
       "\t<li>1171</li>\n",
       "\t<li>1181</li>\n",
       "\t<li>1187</li>\n",
       "\t<li>1193</li>\n",
       "\t<li>1201</li>\n",
       "\t<li>1213</li>\n",
       "\t<li>1217</li>\n",
       "\t<li>1223</li>\n",
       "\t<li>1229</li>\n",
       "\t<li>1231</li>\n",
       "\t<li>1237</li>\n",
       "\t<li>1249</li>\n",
       "\t<li>1259</li>\n",
       "\t<li>1277</li>\n",
       "\t<li>1279</li>\n",
       "\t<li>1283</li>\n",
       "\t<li>1289</li>\n",
       "\t<li>1291</li>\n",
       "\t<li>1297</li>\n",
       "\t<li>1301</li>\n",
       "\t<li>1303</li>\n",
       "\t<li>1307</li>\n",
       "\t<li>1319</li>\n",
       "\t<li>1321</li>\n",
       "\t<li>1327</li>\n",
       "\t<li>1361</li>\n",
       "\t<li>1367</li>\n",
       "\t<li>1373</li>\n",
       "\t<li>1381</li>\n",
       "\t<li>1399</li>\n",
       "\t<li>1409</li>\n",
       "\t<li>1423</li>\n",
       "\t<li>1427</li>\n",
       "\t<li>1429</li>\n",
       "\t<li>1433</li>\n",
       "\t<li>1439</li>\n",
       "\t<li>1447</li>\n",
       "\t<li>1451</li>\n",
       "\t<li>1453</li>\n",
       "\t<li>1459</li>\n",
       "\t<li>1471</li>\n",
       "\t<li>1481</li>\n",
       "\t<li>1483</li>\n",
       "\t<li>1487</li>\n",
       "\t<li>1489</li>\n",
       "\t<li>1493</li>\n",
       "\t<li>1499</li>\n",
       "\t<li>1511</li>\n",
       "\t<li>1523</li>\n",
       "\t<li>1531</li>\n",
       "\t<li>1543</li>\n",
       "\t<li>1549</li>\n",
       "\t<li>1553</li>\n",
       "\t<li>1559</li>\n",
       "\t<li>1567</li>\n",
       "\t<li>1571</li>\n",
       "\t<li>1579</li>\n",
       "\t<li>1583</li>\n",
       "\t<li>1597</li>\n",
       "\t<li>1601</li>\n",
       "\t<li>1607</li>\n",
       "\t<li>1609</li>\n",
       "\t<li>1613</li>\n",
       "\t<li>1619</li>\n",
       "\t<li>1621</li>\n",
       "\t<li>1627</li>\n",
       "\t<li>1637</li>\n",
       "\t<li>1657</li>\n",
       "\t<li>1663</li>\n",
       "\t<li>1667</li>\n",
       "\t<li>1669</li>\n",
       "\t<li>1693</li>\n",
       "\t<li>1697</li>\n",
       "\t<li>1699</li>\n",
       "\t<li>1709</li>\n",
       "\t<li>1721</li>\n",
       "\t<li>1723</li>\n",
       "\t<li>1733</li>\n",
       "\t<li>1741</li>\n",
       "\t<li>1747</li>\n",
       "\t<li>1753</li>\n",
       "\t<li>1759</li>\n",
       "\t<li>1777</li>\n",
       "\t<li>1783</li>\n",
       "\t<li>1787</li>\n",
       "\t<li>1789</li>\n",
       "\t<li>1801</li>\n",
       "\t<li>1811</li>\n",
       "\t<li>1823</li>\n",
       "\t<li>1831</li>\n",
       "\t<li>1847</li>\n",
       "\t<li>1861</li>\n",
       "\t<li>1867</li>\n",
       "\t<li>1871</li>\n",
       "\t<li>1873</li>\n",
       "\t<li>1877</li>\n",
       "\t<li>1879</li>\n",
       "\t<li>1889</li>\n",
       "\t<li>1901</li>\n",
       "\t<li>1907</li>\n",
       "\t<li>1913</li>\n",
       "\t<li>1931</li>\n",
       "\t<li>1933</li>\n",
       "\t<li>1949</li>\n",
       "\t<li>1951</li>\n",
       "\t<li>1973</li>\n",
       "\t<li>1979</li>\n",
       "\t<li>1987</li>\n",
       "\t<li>1993</li>\n",
       "\t<li>1997</li>\n",
       "\t<li>1999</li>\n",
       "\t<li>2003</li>\n",
       "\t<li>2011</li>\n",
       "\t<li>2017</li>\n",
       "\t<li>2027</li>\n",
       "\t<li>2029</li>\n",
       "\t<li>2039</li>\n",
       "\t<li>2053</li>\n",
       "\t<li>2063</li>\n",
       "\t<li>2069</li>\n",
       "\t<li>2081</li>\n",
       "\t<li>2083</li>\n",
       "\t<li>2087</li>\n",
       "\t<li>2089</li>\n",
       "\t<li>2099</li>\n",
       "\t<li>2111</li>\n",
       "\t<li>2113</li>\n",
       "\t<li>2129</li>\n",
       "\t<li>2131</li>\n",
       "\t<li>2137</li>\n",
       "\t<li>2141</li>\n",
       "\t<li>2143</li>\n",
       "\t<li>2153</li>\n",
       "\t<li>2161</li>\n",
       "\t<li>2179</li>\n",
       "\t<li>2203</li>\n",
       "\t<li>2207</li>\n",
       "\t<li>2213</li>\n",
       "\t<li>2221</li>\n",
       "\t<li>2237</li>\n",
       "\t<li>2239</li>\n",
       "\t<li>2243</li>\n",
       "\t<li>2251</li>\n",
       "\t<li>2267</li>\n",
       "\t<li>2269</li>\n",
       "\t<li>2273</li>\n",
       "\t<li>2281</li>\n",
       "\t<li>2287</li>\n",
       "\t<li>2293</li>\n",
       "\t<li>2297</li>\n",
       "\t<li>2309</li>\n",
       "\t<li>2311</li>\n",
       "\t<li>2333</li>\n",
       "\t<li>2339</li>\n",
       "\t<li>2341</li>\n",
       "\t<li>2347</li>\n",
       "\t<li>2351</li>\n",
       "\t<li>2357</li>\n",
       "\t<li>2371</li>\n",
       "\t<li>2377</li>\n",
       "\t<li>2381</li>\n",
       "\t<li>2383</li>\n",
       "\t<li>2389</li>\n",
       "\t<li>2393</li>\n",
       "\t<li>2399</li>\n",
       "\t<li>2411</li>\n",
       "\t<li>2417</li>\n",
       "\t<li>2423</li>\n",
       "\t<li>2437</li>\n",
       "\t<li>2441</li>\n",
       "\t<li>2447</li>\n",
       "\t<li>2459</li>\n",
       "\t<li>2467</li>\n",
       "\t<li>2473</li>\n",
       "\t<li>2477</li>\n",
       "\t<li>2503</li>\n",
       "\t<li>2521</li>\n",
       "\t<li>2531</li>\n",
       "\t<li>2539</li>\n",
       "\t<li>2543</li>\n",
       "\t<li>2549</li>\n",
       "\t<li>2551</li>\n",
       "\t<li>2557</li>\n",
       "\t<li>2579</li>\n",
       "\t<li>2591</li>\n",
       "\t<li>2593</li>\n",
       "\t<li>2609</li>\n",
       "\t<li>2617</li>\n",
       "\t<li>2621</li>\n",
       "\t<li>2633</li>\n",
       "\t<li>2647</li>\n",
       "\t<li>2657</li>\n",
       "\t<li>2659</li>\n",
       "\t<li>2663</li>\n",
       "\t<li>2671</li>\n",
       "\t<li>2677</li>\n",
       "\t<li>2683</li>\n",
       "\t<li>2687</li>\n",
       "\t<li>2689</li>\n",
       "\t<li>2693</li>\n",
       "\t<li>2699</li>\n",
       "\t<li>2707</li>\n",
       "\t<li>2711</li>\n",
       "\t<li>2713</li>\n",
       "\t<li>2719</li>\n",
       "\t<li>2729</li>\n",
       "\t<li>2731</li>\n",
       "\t<li>2741</li>\n",
       "\t<li>2749</li>\n",
       "\t<li>2753</li>\n",
       "\t<li>2767</li>\n",
       "\t<li>2777</li>\n",
       "\t<li>2789</li>\n",
       "\t<li>2791</li>\n",
       "\t<li>2797</li>\n",
       "\t<li>2801</li>\n",
       "\t<li>2803</li>\n",
       "\t<li>2819</li>\n",
       "\t<li>2833</li>\n",
       "\t<li>2837</li>\n",
       "\t<li>2843</li>\n",
       "\t<li>2851</li>\n",
       "\t<li>2857</li>\n",
       "\t<li>2861</li>\n",
       "\t<li>2879</li>\n",
       "\t<li>2887</li>\n",
       "\t<li>2897</li>\n",
       "\t<li>2903</li>\n",
       "\t<li>2909</li>\n",
       "\t<li>2917</li>\n",
       "\t<li>2927</li>\n",
       "\t<li>2939</li>\n",
       "\t<li>2953</li>\n",
       "\t<li>2957</li>\n",
       "\t<li>2963</li>\n",
       "\t<li>2969</li>\n",
       "\t<li>2971</li>\n",
       "\t<li>2999</li>\n",
       "\t<li>3001</li>\n",
       "\t<li>3011</li>\n",
       "\t<li>3019</li>\n",
       "\t<li>3023</li>\n",
       "\t<li>3037</li>\n",
       "\t<li>3041</li>\n",
       "\t<li>3049</li>\n",
       "\t<li>3061</li>\n",
       "\t<li>3067</li>\n",
       "\t<li>3079</li>\n",
       "\t<li>3083</li>\n",
       "\t<li>3089</li>\n",
       "\t<li>3109</li>\n",
       "\t<li>3119</li>\n",
       "\t<li>3121</li>\n",
       "\t<li>3137</li>\n",
       "\t<li>3163</li>\n",
       "\t<li>3167</li>\n",
       "\t<li>3169</li>\n",
       "\t<li>3181</li>\n",
       "\t<li>3187</li>\n",
       "\t<li>3191</li>\n",
       "\t<li>3203</li>\n",
       "\t<li>3209</li>\n",
       "\t<li>3217</li>\n",
       "\t<li>3221</li>\n",
       "\t<li>3229</li>\n",
       "\t<li>3251</li>\n",
       "\t<li>3253</li>\n",
       "\t<li>3257</li>\n",
       "\t<li>3259</li>\n",
       "\t<li>3271</li>\n",
       "\t<li>3299</li>\n",
       "\t<li>3301</li>\n",
       "\t<li>3307</li>\n",
       "\t<li>3313</li>\n",
       "\t<li>3319</li>\n",
       "\t<li>3323</li>\n",
       "\t<li>3329</li>\n",
       "\t<li>3331</li>\n",
       "\t<li>3343</li>\n",
       "\t<li>3347</li>\n",
       "\t<li>3359</li>\n",
       "\t<li>3361</li>\n",
       "\t<li>3371</li>\n",
       "\t<li>3373</li>\n",
       "\t<li>3389</li>\n",
       "\t<li>3391</li>\n",
       "\t<li>3407</li>\n",
       "\t<li>3413</li>\n",
       "\t<li>3433</li>\n",
       "\t<li>3449</li>\n",
       "\t<li>3457</li>\n",
       "\t<li>3461</li>\n",
       "\t<li>3463</li>\n",
       "\t<li>3467</li>\n",
       "\t<li>3469</li>\n",
       "\t<li>3491</li>\n",
       "\t<li>3499</li>\n",
       "\t<li>3511</li>\n",
       "\t<li>3517</li>\n",
       "\t<li>3527</li>\n",
       "\t<li>3529</li>\n",
       "\t<li>3533</li>\n",
       "\t<li>3539</li>\n",
       "\t<li>3541</li>\n",
       "\t<li>3547</li>\n",
       "\t<li>3557</li>\n",
       "\t<li>3559</li>\n",
       "\t<li>3571</li>\n",
       "</ol>\n"
      ],
      "text/latex": [
       "\\begin{enumerate*}\n",
       "\\item 2\n",
       "\\item 3\n",
       "\\item 5\n",
       "\\item 7\n",
       "\\item 11\n",
       "\\item 13\n",
       "\\item 17\n",
       "\\item 19\n",
       "\\item 23\n",
       "\\item 29\n",
       "\\item 31\n",
       "\\item 37\n",
       "\\item 41\n",
       "\\item 43\n",
       "\\item 47\n",
       "\\item 53\n",
       "\\item 59\n",
       "\\item 61\n",
       "\\item 67\n",
       "\\item 71\n",
       "\\item 73\n",
       "\\item 79\n",
       "\\item 83\n",
       "\\item 89\n",
       "\\item 97\n",
       "\\item 101\n",
       "\\item 103\n",
       "\\item 107\n",
       "\\item 109\n",
       "\\item 113\n",
       "\\item 127\n",
       "\\item 131\n",
       "\\item 137\n",
       "\\item 139\n",
       "\\item 149\n",
       "\\item 151\n",
       "\\item 157\n",
       "\\item 163\n",
       "\\item 167\n",
       "\\item 173\n",
       "\\item 179\n",
       "\\item 181\n",
       "\\item 191\n",
       "\\item 193\n",
       "\\item 197\n",
       "\\item 199\n",
       "\\item 211\n",
       "\\item 223\n",
       "\\item 227\n",
       "\\item 229\n",
       "\\item 233\n",
       "\\item 239\n",
       "\\item 241\n",
       "\\item 251\n",
       "\\item 257\n",
       "\\item 263\n",
       "\\item 269\n",
       "\\item 271\n",
       "\\item 277\n",
       "\\item 281\n",
       "\\item 283\n",
       "\\item 293\n",
       "\\item 307\n",
       "\\item 311\n",
       "\\item 313\n",
       "\\item 317\n",
       "\\item 331\n",
       "\\item 337\n",
       "\\item 347\n",
       "\\item 349\n",
       "\\item 353\n",
       "\\item 359\n",
       "\\item 367\n",
       "\\item 373\n",
       "\\item 379\n",
       "\\item 383\n",
       "\\item 389\n",
       "\\item 397\n",
       "\\item 401\n",
       "\\item 409\n",
       "\\item 419\n",
       "\\item 421\n",
       "\\item 431\n",
       "\\item 433\n",
       "\\item 439\n",
       "\\item 443\n",
       "\\item 449\n",
       "\\item 457\n",
       "\\item 461\n",
       "\\item 463\n",
       "\\item 467\n",
       "\\item 479\n",
       "\\item 487\n",
       "\\item 491\n",
       "\\item 499\n",
       "\\item 503\n",
       "\\item 509\n",
       "\\item 521\n",
       "\\item 523\n",
       "\\item 541\n",
       "\\item 547\n",
       "\\item 557\n",
       "\\item 563\n",
       "\\item 569\n",
       "\\item 571\n",
       "\\item 577\n",
       "\\item 587\n",
       "\\item 593\n",
       "\\item 599\n",
       "\\item 601\n",
       "\\item 607\n",
       "\\item 613\n",
       "\\item 617\n",
       "\\item 619\n",
       "\\item 631\n",
       "\\item 641\n",
       "\\item 643\n",
       "\\item 647\n",
       "\\item 653\n",
       "\\item 659\n",
       "\\item 661\n",
       "\\item 673\n",
       "\\item 677\n",
       "\\item 683\n",
       "\\item 691\n",
       "\\item 701\n",
       "\\item 709\n",
       "\\item 719\n",
       "\\item 727\n",
       "\\item 733\n",
       "\\item 739\n",
       "\\item 743\n",
       "\\item 751\n",
       "\\item 757\n",
       "\\item 761\n",
       "\\item 769\n",
       "\\item 773\n",
       "\\item 787\n",
       "\\item 797\n",
       "\\item 809\n",
       "\\item 811\n",
       "\\item 821\n",
       "\\item 823\n",
       "\\item 827\n",
       "\\item 829\n",
       "\\item 839\n",
       "\\item 853\n",
       "\\item 857\n",
       "\\item 859\n",
       "\\item 863\n",
       "\\item 877\n",
       "\\item 881\n",
       "\\item 883\n",
       "\\item 887\n",
       "\\item 907\n",
       "\\item 911\n",
       "\\item 919\n",
       "\\item 929\n",
       "\\item 937\n",
       "\\item 941\n",
       "\\item 947\n",
       "\\item 953\n",
       "\\item 967\n",
       "\\item 971\n",
       "\\item 977\n",
       "\\item 983\n",
       "\\item 991\n",
       "\\item 997\n",
       "\\item 1009\n",
       "\\item 1013\n",
       "\\item 1019\n",
       "\\item 1021\n",
       "\\item 1031\n",
       "\\item 1033\n",
       "\\item 1039\n",
       "\\item 1049\n",
       "\\item 1051\n",
       "\\item 1061\n",
       "\\item 1063\n",
       "\\item 1069\n",
       "\\item 1087\n",
       "\\item 1091\n",
       "\\item 1093\n",
       "\\item 1097\n",
       "\\item 1103\n",
       "\\item 1109\n",
       "\\item 1117\n",
       "\\item 1123\n",
       "\\item 1129\n",
       "\\item 1151\n",
       "\\item 1153\n",
       "\\item 1163\n",
       "\\item 1171\n",
       "\\item 1181\n",
       "\\item 1187\n",
       "\\item 1193\n",
       "\\item 1201\n",
       "\\item 1213\n",
       "\\item 1217\n",
       "\\item 1223\n",
       "\\item 1229\n",
       "\\item 1231\n",
       "\\item 1237\n",
       "\\item 1249\n",
       "\\item 1259\n",
       "\\item 1277\n",
       "\\item 1279\n",
       "\\item 1283\n",
       "\\item 1289\n",
       "\\item 1291\n",
       "\\item 1297\n",
       "\\item 1301\n",
       "\\item 1303\n",
       "\\item 1307\n",
       "\\item 1319\n",
       "\\item 1321\n",
       "\\item 1327\n",
       "\\item 1361\n",
       "\\item 1367\n",
       "\\item 1373\n",
       "\\item 1381\n",
       "\\item 1399\n",
       "\\item 1409\n",
       "\\item 1423\n",
       "\\item 1427\n",
       "\\item 1429\n",
       "\\item 1433\n",
       "\\item 1439\n",
       "\\item 1447\n",
       "\\item 1451\n",
       "\\item 1453\n",
       "\\item 1459\n",
       "\\item 1471\n",
       "\\item 1481\n",
       "\\item 1483\n",
       "\\item 1487\n",
       "\\item 1489\n",
       "\\item 1493\n",
       "\\item 1499\n",
       "\\item 1511\n",
       "\\item 1523\n",
       "\\item 1531\n",
       "\\item 1543\n",
       "\\item 1549\n",
       "\\item 1553\n",
       "\\item 1559\n",
       "\\item 1567\n",
       "\\item 1571\n",
       "\\item 1579\n",
       "\\item 1583\n",
       "\\item 1597\n",
       "\\item 1601\n",
       "\\item 1607\n",
       "\\item 1609\n",
       "\\item 1613\n",
       "\\item 1619\n",
       "\\item 1621\n",
       "\\item 1627\n",
       "\\item 1637\n",
       "\\item 1657\n",
       "\\item 1663\n",
       "\\item 1667\n",
       "\\item 1669\n",
       "\\item 1693\n",
       "\\item 1697\n",
       "\\item 1699\n",
       "\\item 1709\n",
       "\\item 1721\n",
       "\\item 1723\n",
       "\\item 1733\n",
       "\\item 1741\n",
       "\\item 1747\n",
       "\\item 1753\n",
       "\\item 1759\n",
       "\\item 1777\n",
       "\\item 1783\n",
       "\\item 1787\n",
       "\\item 1789\n",
       "\\item 1801\n",
       "\\item 1811\n",
       "\\item 1823\n",
       "\\item 1831\n",
       "\\item 1847\n",
       "\\item 1861\n",
       "\\item 1867\n",
       "\\item 1871\n",
       "\\item 1873\n",
       "\\item 1877\n",
       "\\item 1879\n",
       "\\item 1889\n",
       "\\item 1901\n",
       "\\item 1907\n",
       "\\item 1913\n",
       "\\item 1931\n",
       "\\item 1933\n",
       "\\item 1949\n",
       "\\item 1951\n",
       "\\item 1973\n",
       "\\item 1979\n",
       "\\item 1987\n",
       "\\item 1993\n",
       "\\item 1997\n",
       "\\item 1999\n",
       "\\item 2003\n",
       "\\item 2011\n",
       "\\item 2017\n",
       "\\item 2027\n",
       "\\item 2029\n",
       "\\item 2039\n",
       "\\item 2053\n",
       "\\item 2063\n",
       "\\item 2069\n",
       "\\item 2081\n",
       "\\item 2083\n",
       "\\item 2087\n",
       "\\item 2089\n",
       "\\item 2099\n",
       "\\item 2111\n",
       "\\item 2113\n",
       "\\item 2129\n",
       "\\item 2131\n",
       "\\item 2137\n",
       "\\item 2141\n",
       "\\item 2143\n",
       "\\item 2153\n",
       "\\item 2161\n",
       "\\item 2179\n",
       "\\item 2203\n",
       "\\item 2207\n",
       "\\item 2213\n",
       "\\item 2221\n",
       "\\item 2237\n",
       "\\item 2239\n",
       "\\item 2243\n",
       "\\item 2251\n",
       "\\item 2267\n",
       "\\item 2269\n",
       "\\item 2273\n",
       "\\item 2281\n",
       "\\item 2287\n",
       "\\item 2293\n",
       "\\item 2297\n",
       "\\item 2309\n",
       "\\item 2311\n",
       "\\item 2333\n",
       "\\item 2339\n",
       "\\item 2341\n",
       "\\item 2347\n",
       "\\item 2351\n",
       "\\item 2357\n",
       "\\item 2371\n",
       "\\item 2377\n",
       "\\item 2381\n",
       "\\item 2383\n",
       "\\item 2389\n",
       "\\item 2393\n",
       "\\item 2399\n",
       "\\item 2411\n",
       "\\item 2417\n",
       "\\item 2423\n",
       "\\item 2437\n",
       "\\item 2441\n",
       "\\item 2447\n",
       "\\item 2459\n",
       "\\item 2467\n",
       "\\item 2473\n",
       "\\item 2477\n",
       "\\item 2503\n",
       "\\item 2521\n",
       "\\item 2531\n",
       "\\item 2539\n",
       "\\item 2543\n",
       "\\item 2549\n",
       "\\item 2551\n",
       "\\item 2557\n",
       "\\item 2579\n",
       "\\item 2591\n",
       "\\item 2593\n",
       "\\item 2609\n",
       "\\item 2617\n",
       "\\item 2621\n",
       "\\item 2633\n",
       "\\item 2647\n",
       "\\item 2657\n",
       "\\item 2659\n",
       "\\item 2663\n",
       "\\item 2671\n",
       "\\item 2677\n",
       "\\item 2683\n",
       "\\item 2687\n",
       "\\item 2689\n",
       "\\item 2693\n",
       "\\item 2699\n",
       "\\item 2707\n",
       "\\item 2711\n",
       "\\item 2713\n",
       "\\item 2719\n",
       "\\item 2729\n",
       "\\item 2731\n",
       "\\item 2741\n",
       "\\item 2749\n",
       "\\item 2753\n",
       "\\item 2767\n",
       "\\item 2777\n",
       "\\item 2789\n",
       "\\item 2791\n",
       "\\item 2797\n",
       "\\item 2801\n",
       "\\item 2803\n",
       "\\item 2819\n",
       "\\item 2833\n",
       "\\item 2837\n",
       "\\item 2843\n",
       "\\item 2851\n",
       "\\item 2857\n",
       "\\item 2861\n",
       "\\item 2879\n",
       "\\item 2887\n",
       "\\item 2897\n",
       "\\item 2903\n",
       "\\item 2909\n",
       "\\item 2917\n",
       "\\item 2927\n",
       "\\item 2939\n",
       "\\item 2953\n",
       "\\item 2957\n",
       "\\item 2963\n",
       "\\item 2969\n",
       "\\item 2971\n",
       "\\item 2999\n",
       "\\item 3001\n",
       "\\item 3011\n",
       "\\item 3019\n",
       "\\item 3023\n",
       "\\item 3037\n",
       "\\item 3041\n",
       "\\item 3049\n",
       "\\item 3061\n",
       "\\item 3067\n",
       "\\item 3079\n",
       "\\item 3083\n",
       "\\item 3089\n",
       "\\item 3109\n",
       "\\item 3119\n",
       "\\item 3121\n",
       "\\item 3137\n",
       "\\item 3163\n",
       "\\item 3167\n",
       "\\item 3169\n",
       "\\item 3181\n",
       "\\item 3187\n",
       "\\item 3191\n",
       "\\item 3203\n",
       "\\item 3209\n",
       "\\item 3217\n",
       "\\item 3221\n",
       "\\item 3229\n",
       "\\item 3251\n",
       "\\item 3253\n",
       "\\item 3257\n",
       "\\item 3259\n",
       "\\item 3271\n",
       "\\item 3299\n",
       "\\item 3301\n",
       "\\item 3307\n",
       "\\item 3313\n",
       "\\item 3319\n",
       "\\item 3323\n",
       "\\item 3329\n",
       "\\item 3331\n",
       "\\item 3343\n",
       "\\item 3347\n",
       "\\item 3359\n",
       "\\item 3361\n",
       "\\item 3371\n",
       "\\item 3373\n",
       "\\item 3389\n",
       "\\item 3391\n",
       "\\item 3407\n",
       "\\item 3413\n",
       "\\item 3433\n",
       "\\item 3449\n",
       "\\item 3457\n",
       "\\item 3461\n",
       "\\item 3463\n",
       "\\item 3467\n",
       "\\item 3469\n",
       "\\item 3491\n",
       "\\item 3499\n",
       "\\item 3511\n",
       "\\item 3517\n",
       "\\item 3527\n",
       "\\item 3529\n",
       "\\item 3533\n",
       "\\item 3539\n",
       "\\item 3541\n",
       "\\item 3547\n",
       "\\item 3557\n",
       "\\item 3559\n",
       "\\item 3571\n",
       "\\end{enumerate*}\n"
      ],
      "text/markdown": [
       "1. 2\n",
       "2. 3\n",
       "3. 5\n",
       "4. 7\n",
       "5. 11\n",
       "6. 13\n",
       "7. 17\n",
       "8. 19\n",
       "9. 23\n",
       "10. 29\n",
       "11. 31\n",
       "12. 37\n",
       "13. 41\n",
       "14. 43\n",
       "15. 47\n",
       "16. 53\n",
       "17. 59\n",
       "18. 61\n",
       "19. 67\n",
       "20. 71\n",
       "21. 73\n",
       "22. 79\n",
       "23. 83\n",
       "24. 89\n",
       "25. 97\n",
       "26. 101\n",
       "27. 103\n",
       "28. 107\n",
       "29. 109\n",
       "30. 113\n",
       "31. 127\n",
       "32. 131\n",
       "33. 137\n",
       "34. 139\n",
       "35. 149\n",
       "36. 151\n",
       "37. 157\n",
       "38. 163\n",
       "39. 167\n",
       "40. 173\n",
       "41. 179\n",
       "42. 181\n",
       "43. 191\n",
       "44. 193\n",
       "45. 197\n",
       "46. 199\n",
       "47. 211\n",
       "48. 223\n",
       "49. 227\n",
       "50. 229\n",
       "51. 233\n",
       "52. 239\n",
       "53. 241\n",
       "54. 251\n",
       "55. 257\n",
       "56. 263\n",
       "57. 269\n",
       "58. 271\n",
       "59. 277\n",
       "60. 281\n",
       "61. 283\n",
       "62. 293\n",
       "63. 307\n",
       "64. 311\n",
       "65. 313\n",
       "66. 317\n",
       "67. 331\n",
       "68. 337\n",
       "69. 347\n",
       "70. 349\n",
       "71. 353\n",
       "72. 359\n",
       "73. 367\n",
       "74. 373\n",
       "75. 379\n",
       "76. 383\n",
       "77. 389\n",
       "78. 397\n",
       "79. 401\n",
       "80. 409\n",
       "81. 419\n",
       "82. 421\n",
       "83. 431\n",
       "84. 433\n",
       "85. 439\n",
       "86. 443\n",
       "87. 449\n",
       "88. 457\n",
       "89. 461\n",
       "90. 463\n",
       "91. 467\n",
       "92. 479\n",
       "93. 487\n",
       "94. 491\n",
       "95. 499\n",
       "96. 503\n",
       "97. 509\n",
       "98. 521\n",
       "99. 523\n",
       "100. 541\n",
       "101. 547\n",
       "102. 557\n",
       "103. 563\n",
       "104. 569\n",
       "105. 571\n",
       "106. 577\n",
       "107. 587\n",
       "108. 593\n",
       "109. 599\n",
       "110. 601\n",
       "111. 607\n",
       "112. 613\n",
       "113. 617\n",
       "114. 619\n",
       "115. 631\n",
       "116. 641\n",
       "117. 643\n",
       "118. 647\n",
       "119. 653\n",
       "120. 659\n",
       "121. 661\n",
       "122. 673\n",
       "123. 677\n",
       "124. 683\n",
       "125. 691\n",
       "126. 701\n",
       "127. 709\n",
       "128. 719\n",
       "129. 727\n",
       "130. 733\n",
       "131. 739\n",
       "132. 743\n",
       "133. 751\n",
       "134. 757\n",
       "135. 761\n",
       "136. 769\n",
       "137. 773\n",
       "138. 787\n",
       "139. 797\n",
       "140. 809\n",
       "141. 811\n",
       "142. 821\n",
       "143. 823\n",
       "144. 827\n",
       "145. 829\n",
       "146. 839\n",
       "147. 853\n",
       "148. 857\n",
       "149. 859\n",
       "150. 863\n",
       "151. 877\n",
       "152. 881\n",
       "153. 883\n",
       "154. 887\n",
       "155. 907\n",
       "156. 911\n",
       "157. 919\n",
       "158. 929\n",
       "159. 937\n",
       "160. 941\n",
       "161. 947\n",
       "162. 953\n",
       "163. 967\n",
       "164. 971\n",
       "165. 977\n",
       "166. 983\n",
       "167. 991\n",
       "168. 997\n",
       "169. 1009\n",
       "170. 1013\n",
       "171. 1019\n",
       "172. 1021\n",
       "173. 1031\n",
       "174. 1033\n",
       "175. 1039\n",
       "176. 1049\n",
       "177. 1051\n",
       "178. 1061\n",
       "179. 1063\n",
       "180. 1069\n",
       "181. 1087\n",
       "182. 1091\n",
       "183. 1093\n",
       "184. 1097\n",
       "185. 1103\n",
       "186. 1109\n",
       "187. 1117\n",
       "188. 1123\n",
       "189. 1129\n",
       "190. 1151\n",
       "191. 1153\n",
       "192. 1163\n",
       "193. 1171\n",
       "194. 1181\n",
       "195. 1187\n",
       "196. 1193\n",
       "197. 1201\n",
       "198. 1213\n",
       "199. 1217\n",
       "200. 1223\n",
       "201. 1229\n",
       "202. 1231\n",
       "203. 1237\n",
       "204. 1249\n",
       "205. 1259\n",
       "206. 1277\n",
       "207. 1279\n",
       "208. 1283\n",
       "209. 1289\n",
       "210. 1291\n",
       "211. 1297\n",
       "212. 1301\n",
       "213. 1303\n",
       "214. 1307\n",
       "215. 1319\n",
       "216. 1321\n",
       "217. 1327\n",
       "218. 1361\n",
       "219. 1367\n",
       "220. 1373\n",
       "221. 1381\n",
       "222. 1399\n",
       "223. 1409\n",
       "224. 1423\n",
       "225. 1427\n",
       "226. 1429\n",
       "227. 1433\n",
       "228. 1439\n",
       "229. 1447\n",
       "230. 1451\n",
       "231. 1453\n",
       "232. 1459\n",
       "233. 1471\n",
       "234. 1481\n",
       "235. 1483\n",
       "236. 1487\n",
       "237. 1489\n",
       "238. 1493\n",
       "239. 1499\n",
       "240. 1511\n",
       "241. 1523\n",
       "242. 1531\n",
       "243. 1543\n",
       "244. 1549\n",
       "245. 1553\n",
       "246. 1559\n",
       "247. 1567\n",
       "248. 1571\n",
       "249. 1579\n",
       "250. 1583\n",
       "251. 1597\n",
       "252. 1601\n",
       "253. 1607\n",
       "254. 1609\n",
       "255. 1613\n",
       "256. 1619\n",
       "257. 1621\n",
       "258. 1627\n",
       "259. 1637\n",
       "260. 1657\n",
       "261. 1663\n",
       "262. 1667\n",
       "263. 1669\n",
       "264. 1693\n",
       "265. 1697\n",
       "266. 1699\n",
       "267. 1709\n",
       "268. 1721\n",
       "269. 1723\n",
       "270. 1733\n",
       "271. 1741\n",
       "272. 1747\n",
       "273. 1753\n",
       "274. 1759\n",
       "275. 1777\n",
       "276. 1783\n",
       "277. 1787\n",
       "278. 1789\n",
       "279. 1801\n",
       "280. 1811\n",
       "281. 1823\n",
       "282. 1831\n",
       "283. 1847\n",
       "284. 1861\n",
       "285. 1867\n",
       "286. 1871\n",
       "287. 1873\n",
       "288. 1877\n",
       "289. 1879\n",
       "290. 1889\n",
       "291. 1901\n",
       "292. 1907\n",
       "293. 1913\n",
       "294. 1931\n",
       "295. 1933\n",
       "296. 1949\n",
       "297. 1951\n",
       "298. 1973\n",
       "299. 1979\n",
       "300. 1987\n",
       "301. 1993\n",
       "302. 1997\n",
       "303. 1999\n",
       "304. 2003\n",
       "305. 2011\n",
       "306. 2017\n",
       "307. 2027\n",
       "308. 2029\n",
       "309. 2039\n",
       "310. 2053\n",
       "311. 2063\n",
       "312. 2069\n",
       "313. 2081\n",
       "314. 2083\n",
       "315. 2087\n",
       "316. 2089\n",
       "317. 2099\n",
       "318. 2111\n",
       "319. 2113\n",
       "320. 2129\n",
       "321. 2131\n",
       "322. 2137\n",
       "323. 2141\n",
       "324. 2143\n",
       "325. 2153\n",
       "326. 2161\n",
       "327. 2179\n",
       "328. 2203\n",
       "329. 2207\n",
       "330. 2213\n",
       "331. 2221\n",
       "332. 2237\n",
       "333. 2239\n",
       "334. 2243\n",
       "335. 2251\n",
       "336. 2267\n",
       "337. 2269\n",
       "338. 2273\n",
       "339. 2281\n",
       "340. 2287\n",
       "341. 2293\n",
       "342. 2297\n",
       "343. 2309\n",
       "344. 2311\n",
       "345. 2333\n",
       "346. 2339\n",
       "347. 2341\n",
       "348. 2347\n",
       "349. 2351\n",
       "350. 2357\n",
       "351. 2371\n",
       "352. 2377\n",
       "353. 2381\n",
       "354. 2383\n",
       "355. 2389\n",
       "356. 2393\n",
       "357. 2399\n",
       "358. 2411\n",
       "359. 2417\n",
       "360. 2423\n",
       "361. 2437\n",
       "362. 2441\n",
       "363. 2447\n",
       "364. 2459\n",
       "365. 2467\n",
       "366. 2473\n",
       "367. 2477\n",
       "368. 2503\n",
       "369. 2521\n",
       "370. 2531\n",
       "371. 2539\n",
       "372. 2543\n",
       "373. 2549\n",
       "374. 2551\n",
       "375. 2557\n",
       "376. 2579\n",
       "377. 2591\n",
       "378. 2593\n",
       "379. 2609\n",
       "380. 2617\n",
       "381. 2621\n",
       "382. 2633\n",
       "383. 2647\n",
       "384. 2657\n",
       "385. 2659\n",
       "386. 2663\n",
       "387. 2671\n",
       "388. 2677\n",
       "389. 2683\n",
       "390. 2687\n",
       "391. 2689\n",
       "392. 2693\n",
       "393. 2699\n",
       "394. 2707\n",
       "395. 2711\n",
       "396. 2713\n",
       "397. 2719\n",
       "398. 2729\n",
       "399. 2731\n",
       "400. 2741\n",
       "401. 2749\n",
       "402. 2753\n",
       "403. 2767\n",
       "404. 2777\n",
       "405. 2789\n",
       "406. 2791\n",
       "407. 2797\n",
       "408. 2801\n",
       "409. 2803\n",
       "410. 2819\n",
       "411. 2833\n",
       "412. 2837\n",
       "413. 2843\n",
       "414. 2851\n",
       "415. 2857\n",
       "416. 2861\n",
       "417. 2879\n",
       "418. 2887\n",
       "419. 2897\n",
       "420. 2903\n",
       "421. 2909\n",
       "422. 2917\n",
       "423. 2927\n",
       "424. 2939\n",
       "425. 2953\n",
       "426. 2957\n",
       "427. 2963\n",
       "428. 2969\n",
       "429. 2971\n",
       "430. 2999\n",
       "431. 3001\n",
       "432. 3011\n",
       "433. 3019\n",
       "434. 3023\n",
       "435. 3037\n",
       "436. 3041\n",
       "437. 3049\n",
       "438. 3061\n",
       "439. 3067\n",
       "440. 3079\n",
       "441. 3083\n",
       "442. 3089\n",
       "443. 3109\n",
       "444. 3119\n",
       "445. 3121\n",
       "446. 3137\n",
       "447. 3163\n",
       "448. 3167\n",
       "449. 3169\n",
       "450. 3181\n",
       "451. 3187\n",
       "452. 3191\n",
       "453. 3203\n",
       "454. 3209\n",
       "455. 3217\n",
       "456. 3221\n",
       "457. 3229\n",
       "458. 3251\n",
       "459. 3253\n",
       "460. 3257\n",
       "461. 3259\n",
       "462. 3271\n",
       "463. 3299\n",
       "464. 3301\n",
       "465. 3307\n",
       "466. 3313\n",
       "467. 3319\n",
       "468. 3323\n",
       "469. 3329\n",
       "470. 3331\n",
       "471. 3343\n",
       "472. 3347\n",
       "473. 3359\n",
       "474. 3361\n",
       "475. 3371\n",
       "476. 3373\n",
       "477. 3389\n",
       "478. 3391\n",
       "479. 3407\n",
       "480. 3413\n",
       "481. 3433\n",
       "482. 3449\n",
       "483. 3457\n",
       "484. 3461\n",
       "485. 3463\n",
       "486. 3467\n",
       "487. 3469\n",
       "488. 3491\n",
       "489. 3499\n",
       "490. 3511\n",
       "491. 3517\n",
       "492. 3527\n",
       "493. 3529\n",
       "494. 3533\n",
       "495. 3539\n",
       "496. 3541\n",
       "497. 3547\n",
       "498. 3557\n",
       "499. 3559\n",
       "500. 3571\n",
       "\n",
       "\n"
      ],
      "text/plain": [
       "  [1]    2    3    5    7   11   13   17   19   23   29   31   37   41   43   47\n",
       " [16]   53   59   61   67   71   73   79   83   89   97  101  103  107  109  113\n",
       " [31]  127  131  137  139  149  151  157  163  167  173  179  181  191  193  197\n",
       " [46]  199  211  223  227  229  233  239  241  251  257  263  269  271  277  281\n",
       " [61]  283  293  307  311  313  317  331  337  347  349  353  359  367  373  379\n",
       " [76]  383  389  397  401  409  419  421  431  433  439  443  449  457  461  463\n",
       " [91]  467  479  487  491  499  503  509  521  523  541  547  557  563  569  571\n",
       "[106]  577  587  593  599  601  607  613  617  619  631  641  643  647  653  659\n",
       "[121]  661  673  677  683  691  701  709  719  727  733  739  743  751  757  761\n",
       "[136]  769  773  787  797  809  811  821  823  827  829  839  853  857  859  863\n",
       "[151]  877  881  883  887  907  911  919  929  937  941  947  953  967  971  977\n",
       "[166]  983  991  997 1009 1013 1019 1021 1031 1033 1039 1049 1051 1061 1063 1069\n",
       "[181] 1087 1091 1093 1097 1103 1109 1117 1123 1129 1151 1153 1163 1171 1181 1187\n",
       "[196] 1193 1201 1213 1217 1223 1229 1231 1237 1249 1259 1277 1279 1283 1289 1291\n",
       "[211] 1297 1301 1303 1307 1319 1321 1327 1361 1367 1373 1381 1399 1409 1423 1427\n",
       "[226] 1429 1433 1439 1447 1451 1453 1459 1471 1481 1483 1487 1489 1493 1499 1511\n",
       "[241] 1523 1531 1543 1549 1553 1559 1567 1571 1579 1583 1597 1601 1607 1609 1613\n",
       "[256] 1619 1621 1627 1637 1657 1663 1667 1669 1693 1697 1699 1709 1721 1723 1733\n",
       "[271] 1741 1747 1753 1759 1777 1783 1787 1789 1801 1811 1823 1831 1847 1861 1867\n",
       "[286] 1871 1873 1877 1879 1889 1901 1907 1913 1931 1933 1949 1951 1973 1979 1987\n",
       "[301] 1993 1997 1999 2003 2011 2017 2027 2029 2039 2053 2063 2069 2081 2083 2087\n",
       "[316] 2089 2099 2111 2113 2129 2131 2137 2141 2143 2153 2161 2179 2203 2207 2213\n",
       "[331] 2221 2237 2239 2243 2251 2267 2269 2273 2281 2287 2293 2297 2309 2311 2333\n",
       "[346] 2339 2341 2347 2351 2357 2371 2377 2381 2383 2389 2393 2399 2411 2417 2423\n",
       "[361] 2437 2441 2447 2459 2467 2473 2477 2503 2521 2531 2539 2543 2549 2551 2557\n",
       "[376] 2579 2591 2593 2609 2617 2621 2633 2647 2657 2659 2663 2671 2677 2683 2687\n",
       "[391] 2689 2693 2699 2707 2711 2713 2719 2729 2731 2741 2749 2753 2767 2777 2789\n",
       "[406] 2791 2797 2801 2803 2819 2833 2837 2843 2851 2857 2861 2879 2887 2897 2903\n",
       "[421] 2909 2917 2927 2939 2953 2957 2963 2969 2971 2999 3001 3011 3019 3023 3037\n",
       "[436] 3041 3049 3061 3067 3079 3083 3089 3109 3119 3121 3137 3163 3167 3169 3181\n",
       "[451] 3187 3191 3203 3209 3217 3221 3229 3251 3253 3257 3259 3271 3299 3301 3307\n",
       "[466] 3313 3319 3323 3329 3331 3343 3347 3359 3361 3371 3373 3389 3391 3407 3413\n",
       "[481] 3433 3449 3457 3461 3463 3467 3469 3491 3499 3511 3517 3527 3529 3533 3539\n",
       "[496] 3541 3547 3557 3559 3571"
      ]
     },
     "metadata": {},
     "output_type": "display_data"
    },
    {
     "data": {
      "text/html": [
       "500"
      ],
      "text/latex": [
       "500"
      ],
      "text/markdown": [
       "500"
      ],
      "text/plain": [
       "[1] 500"
      ]
     },
     "metadata": {},
     "output_type": "display_data"
    },
    {
     "name": "stdout",
     "output_type": "stream",
     "text": [
      "[1] 3571\n"
     ]
    }
   ],
   "source": [
    "n <-10000\n",
    "p <- 2:n\n",
    "i <-1\n",
    "while (p[i] <= sqrt(n)){\n",
    "    p <- p[p %% p[i] !=0 | p ==p[i]]\n",
    "    i <- i+1\n",
    "    }\n",
    "a<- p[1:500]\n",
    "a\n",
    "length(a)\n",
    "print(p[500])"
   ]
  },
  {
   "cell_type": "markdown",
   "metadata": {},
   "source": [
    "## 4. Fibonacci number\n",
    "### Define a function to return the Xth fibonacci number\n",
    "Info about fibonacci numbers: https://en.wikipedia.org/wiki/Fibonacci_number (Use the sequence starts with 1,1, 2)"
   ]
  },
  {
   "cell_type": "code",
   "execution_count": 18,
   "metadata": {},
   "outputs": [
    {
     "name": "stdout",
     "output_type": "stream",
     "text": [
      "[1] 1\n",
      "[1] 1\n",
      "[1] 2\n",
      "[1] 3\n",
      "[1] 5\n"
     ]
    }
   ],
   "source": [
    "Fibonacci <- function(x) {\n",
    "n <- 0\n",
    "m <- 1\n",
    "t <- 0\n",
    "for (i in c(1:x)) {\n",
    "    t <- n+m\n",
    "    m <- n\n",
    "    n <- t\n",
    "    i <- i+1\n",
    "    }\n",
    "print (t)\n",
    "}\n",
    "\n",
    "Fibonacci(1)\n",
    "Fibonacci(2)\n",
    "Fibonacci(3)\n",
    "Fibonacci(4)\n",
    "Fibonacci(5)"
   ]
  },
  {
   "cell_type": "markdown",
   "metadata": {},
   "source": [
    "## 5. Read both NAV-D14_DEseq2.csv and NAV-MEM-DEseq2.csv into dataframes: df.nav.d14 and df.nav.mem .\n",
    "### 5.1 Subset both dataframes to include only \"gene.name\", \"baseMean\", \"log2FoldChange\" and \"padj\"\n",
    "### 5.2 Merge the two dataframes (Change column names so that there are no repetative column names. The base mean in two spreadsheets are the same so delete the extra one.) into a dataframe df.nav.d14.mem.\n",
    "### 5.3 Sort the new dataframe on \" baseMean\".\n",
    "### 5.4 Define a function to evaluate padj output:\n",
    "    - padj > 0.05: nonsig\n",
    "    - padj <= 0.05: sig\n",
    "### 5.5 Use lapply to apply the function to padj of subsetted dataframes nav.mem and nav.d14 (not the combined df.nav.d14.mem) and create one column to add the evaluation result."
   ]
  },
  {
   "cell_type": "markdown",
   "metadata": {},
   "source": [
    "5. Read both NAV-D14_DEseq2.csv and NAV-MEM-DEseq2.csv into dataframes: df.nav.d14 and df.nav.mem ."
   ]
  },
  {
   "cell_type": "code",
   "execution_count": 19,
   "metadata": {},
   "outputs": [
    {
     "data": {
      "text/html": [
       "<table>\n",
       "<thead><tr><th scope=col>gene.name</th><th scope=col>baseMean</th><th scope=col>log2FoldChange</th><th scope=col>lfcSE</th><th scope=col>stat</th><th scope=col>pvalue</th><th scope=col>padj</th></tr></thead>\n",
       "<tbody>\n",
       "\t<tr><td>TSPAN6      </td><td> 25.256745  </td><td> 1.30246882 </td><td>0.4166710   </td><td> 3.1258926  </td><td>1.772662e-03</td><td>8.209295e-03</td></tr>\n",
       "\t<tr><td>TNMD        </td><td>  0.288508  </td><td>-0.05077872 </td><td>0.4875003   </td><td>-0.1041614  </td><td>9.170413e-01</td><td>          NA</td></tr>\n",
       "\t<tr><td>DPM1        </td><td>163.507773  </td><td>-0.05502833 </td><td>0.2492486   </td><td>-0.2207769  </td><td>8.252662e-01</td><td>9.144493e-01</td></tr>\n",
       "\t<tr><td>SCYL3       </td><td>296.461713  </td><td> 0.27370099 </td><td>0.1964251   </td><td> 1.3934117  </td><td>1.634953e-01</td><td>3.312390e-01</td></tr>\n",
       "\t<tr><td>C1orf112    </td><td>199.011986  </td><td>-1.62012005 </td><td>0.2833121   </td><td>-5.7184998  </td><td>1.070000e-08</td><td>1.590000e-07</td></tr>\n",
       "\t<tr><td>FGR         </td><td>122.792530  </td><td>-5.60936805 </td><td>0.6378324   </td><td>-8.7944226  </td><td>1.440000e-18</td><td>7.150000e-17</td></tr>\n",
       "</tbody>\n",
       "</table>\n"
      ],
      "text/latex": [
       "\\begin{tabular}{r|lllllll}\n",
       " gene.name & baseMean & log2FoldChange & lfcSE & stat & pvalue & padj\\\\\n",
       "\\hline\n",
       "\t TSPAN6       &  25.256745   &  1.30246882  & 0.4166710    &  3.1258926   & 1.772662e-03 & 8.209295e-03\\\\\n",
       "\t TNMD         &   0.288508   & -0.05077872  & 0.4875003    & -0.1041614   & 9.170413e-01 &           NA\\\\\n",
       "\t DPM1         & 163.507773   & -0.05502833  & 0.2492486    & -0.2207769   & 8.252662e-01 & 9.144493e-01\\\\\n",
       "\t SCYL3        & 296.461713   &  0.27370099  & 0.1964251    &  1.3934117   & 1.634953e-01 & 3.312390e-01\\\\\n",
       "\t C1orf112     & 199.011986   & -1.62012005  & 0.2833121    & -5.7184998   & 1.070000e-08 & 1.590000e-07\\\\\n",
       "\t FGR          & 122.792530   & -5.60936805  & 0.6378324    & -8.7944226   & 1.440000e-18 & 7.150000e-17\\\\\n",
       "\\end{tabular}\n"
      ],
      "text/markdown": [
       "\n",
       "gene.name | baseMean | log2FoldChange | lfcSE | stat | pvalue | padj | \n",
       "|---|---|---|---|---|---|\n",
       "| TSPAN6       |  25.256745   |  1.30246882  | 0.4166710    |  3.1258926   | 1.772662e-03 | 8.209295e-03 | \n",
       "| TNMD         |   0.288508   | -0.05077872  | 0.4875003    | -0.1041614   | 9.170413e-01 |           NA | \n",
       "| DPM1         | 163.507773   | -0.05502833  | 0.2492486    | -0.2207769   | 8.252662e-01 | 9.144493e-01 | \n",
       "| SCYL3        | 296.461713   |  0.27370099  | 0.1964251    |  1.3934117   | 1.634953e-01 | 3.312390e-01 | \n",
       "| C1orf112     | 199.011986   | -1.62012005  | 0.2833121    | -5.7184998   | 1.070000e-08 | 1.590000e-07 | \n",
       "| FGR          | 122.792530   | -5.60936805  | 0.6378324    | -8.7944226   | 1.440000e-18 | 7.150000e-17 | \n",
       "\n",
       "\n"
      ],
      "text/plain": [
       "  gene.name baseMean   log2FoldChange lfcSE     stat       pvalue      \n",
       "1 TSPAN6     25.256745  1.30246882    0.4166710  3.1258926 1.772662e-03\n",
       "2 TNMD        0.288508 -0.05077872    0.4875003 -0.1041614 9.170413e-01\n",
       "3 DPM1      163.507773 -0.05502833    0.2492486 -0.2207769 8.252662e-01\n",
       "4 SCYL3     296.461713  0.27370099    0.1964251  1.3934117 1.634953e-01\n",
       "5 C1orf112  199.011986 -1.62012005    0.2833121 -5.7184998 1.070000e-08\n",
       "6 FGR       122.792530 -5.60936805    0.6378324 -8.7944226 1.440000e-18\n",
       "  padj        \n",
       "1 8.209295e-03\n",
       "2           NA\n",
       "3 9.144493e-01\n",
       "4 3.312390e-01\n",
       "5 1.590000e-07\n",
       "6 7.150000e-17"
      ]
     },
     "metadata": {},
     "output_type": "display_data"
    },
    {
     "data": {
      "text/html": [
       "<table>\n",
       "<thead><tr><th scope=col>gene.name</th><th scope=col>baseMean</th><th scope=col>log2FoldChange</th><th scope=col>lfcSE</th><th scope=col>stat</th><th scope=col>pvalue</th><th scope=col>padj</th></tr></thead>\n",
       "<tbody>\n",
       "\t<tr><td>TSPAN6      </td><td> 25.256745  </td><td> 0.79648366 </td><td>0.3778646   </td><td> 2.1078545  </td><td>3.504358e-02</td><td>1.592970e-01</td></tr>\n",
       "\t<tr><td>TNMD        </td><td>  0.288508  </td><td> 0.11136908 </td><td>0.5380579   </td><td> 0.2069835  </td><td>8.360228e-01</td><td>          NA</td></tr>\n",
       "\t<tr><td>DPM1        </td><td>163.507773  </td><td>-0.35399129 </td><td>0.2170358   </td><td>-1.6310274  </td><td>1.028845e-01</td><td>3.222973e-01</td></tr>\n",
       "\t<tr><td>SCYL3       </td><td>296.461713  </td><td> 0.07204111 </td><td>0.1698354   </td><td> 0.4241819  </td><td>6.714331e-01</td><td>8.587087e-01</td></tr>\n",
       "\t<tr><td>C1orf112    </td><td>199.011986  </td><td> 0.20171786 </td><td>0.2517235   </td><td> 0.8013470  </td><td>4.229308e-01</td><td>6.914181e-01</td></tr>\n",
       "\t<tr><td>FGR         </td><td>122.792530  </td><td>-3.99706084 </td><td>0.5938327   </td><td>-6.7309544  </td><td>1.690000e-11</td><td>1.250000e-09</td></tr>\n",
       "</tbody>\n",
       "</table>\n"
      ],
      "text/latex": [
       "\\begin{tabular}{r|lllllll}\n",
       " gene.name & baseMean & log2FoldChange & lfcSE & stat & pvalue & padj\\\\\n",
       "\\hline\n",
       "\t TSPAN6       &  25.256745   &  0.79648366  & 0.3778646    &  2.1078545   & 3.504358e-02 & 1.592970e-01\\\\\n",
       "\t TNMD         &   0.288508   &  0.11136908  & 0.5380579    &  0.2069835   & 8.360228e-01 &           NA\\\\\n",
       "\t DPM1         & 163.507773   & -0.35399129  & 0.2170358    & -1.6310274   & 1.028845e-01 & 3.222973e-01\\\\\n",
       "\t SCYL3        & 296.461713   &  0.07204111  & 0.1698354    &  0.4241819   & 6.714331e-01 & 8.587087e-01\\\\\n",
       "\t C1orf112     & 199.011986   &  0.20171786  & 0.2517235    &  0.8013470   & 4.229308e-01 & 6.914181e-01\\\\\n",
       "\t FGR          & 122.792530   & -3.99706084  & 0.5938327    & -6.7309544   & 1.690000e-11 & 1.250000e-09\\\\\n",
       "\\end{tabular}\n"
      ],
      "text/markdown": [
       "\n",
       "gene.name | baseMean | log2FoldChange | lfcSE | stat | pvalue | padj | \n",
       "|---|---|---|---|---|---|\n",
       "| TSPAN6       |  25.256745   |  0.79648366  | 0.3778646    |  2.1078545   | 3.504358e-02 | 1.592970e-01 | \n",
       "| TNMD         |   0.288508   |  0.11136908  | 0.5380579    |  0.2069835   | 8.360228e-01 |           NA | \n",
       "| DPM1         | 163.507773   | -0.35399129  | 0.2170358    | -1.6310274   | 1.028845e-01 | 3.222973e-01 | \n",
       "| SCYL3        | 296.461713   |  0.07204111  | 0.1698354    |  0.4241819   | 6.714331e-01 | 8.587087e-01 | \n",
       "| C1orf112     | 199.011986   |  0.20171786  | 0.2517235    |  0.8013470   | 4.229308e-01 | 6.914181e-01 | \n",
       "| FGR          | 122.792530   | -3.99706084  | 0.5938327    | -6.7309544   | 1.690000e-11 | 1.250000e-09 | \n",
       "\n",
       "\n"
      ],
      "text/plain": [
       "  gene.name baseMean   log2FoldChange lfcSE     stat       pvalue      \n",
       "1 TSPAN6     25.256745  0.79648366    0.3778646  2.1078545 3.504358e-02\n",
       "2 TNMD        0.288508  0.11136908    0.5380579  0.2069835 8.360228e-01\n",
       "3 DPM1      163.507773 -0.35399129    0.2170358 -1.6310274 1.028845e-01\n",
       "4 SCYL3     296.461713  0.07204111    0.1698354  0.4241819 6.714331e-01\n",
       "5 C1orf112  199.011986  0.20171786    0.2517235  0.8013470 4.229308e-01\n",
       "6 FGR       122.792530 -3.99706084    0.5938327 -6.7309544 1.690000e-11\n",
       "  padj        \n",
       "1 1.592970e-01\n",
       "2           NA\n",
       "3 3.222973e-01\n",
       "4 8.587087e-01\n",
       "5 6.914181e-01\n",
       "6 1.250000e-09"
      ]
     },
     "metadata": {},
     "output_type": "display_data"
    }
   ],
   "source": [
    "setwd(\"/Users/yinyiming/Applied-Bioinformatics-HW/Unit1-module2-R\")\n",
    "df.nav.d14 <- read.csv(\"NAV-D14_DEseq2.csv\")\n",
    "df.nav.mem <- read.csv(\"NAV-MEM_DEseq2.csv\")\n",
    "head(df.nav.d14)\n",
    "head(df.nav.mem)"
   ]
  },
  {
   "cell_type": "markdown",
   "metadata": {},
   "source": [
    "5.1 Subset both dataframes to include only \"gene.name\", \"baseMean\", \"log2FoldChange\" and \"padj\""
   ]
  },
  {
   "cell_type": "code",
   "execution_count": 20,
   "metadata": {},
   "outputs": [
    {
     "data": {
      "text/html": [
       "<table>\n",
       "<thead><tr><th scope=col>gene.name</th><th scope=col>baseMean</th><th scope=col>log2FoldChange</th><th scope=col>padj</th></tr></thead>\n",
       "<tbody>\n",
       "\t<tr><td>TSPAN6      </td><td> 25.256745  </td><td> 1.30246882 </td><td>8.209295e-03</td></tr>\n",
       "\t<tr><td>TNMD        </td><td>  0.288508  </td><td>-0.05077872 </td><td>          NA</td></tr>\n",
       "\t<tr><td>DPM1        </td><td>163.507773  </td><td>-0.05502833 </td><td>9.144493e-01</td></tr>\n",
       "\t<tr><td>SCYL3       </td><td>296.461713  </td><td> 0.27370099 </td><td>3.312390e-01</td></tr>\n",
       "\t<tr><td>C1orf112    </td><td>199.011986  </td><td>-1.62012005 </td><td>1.590000e-07</td></tr>\n",
       "\t<tr><td>FGR         </td><td>122.792530  </td><td>-5.60936805 </td><td>7.150000e-17</td></tr>\n",
       "</tbody>\n",
       "</table>\n"
      ],
      "text/latex": [
       "\\begin{tabular}{r|llll}\n",
       " gene.name & baseMean & log2FoldChange & padj\\\\\n",
       "\\hline\n",
       "\t TSPAN6       &  25.256745   &  1.30246882  & 8.209295e-03\\\\\n",
       "\t TNMD         &   0.288508   & -0.05077872  &           NA\\\\\n",
       "\t DPM1         & 163.507773   & -0.05502833  & 9.144493e-01\\\\\n",
       "\t SCYL3        & 296.461713   &  0.27370099  & 3.312390e-01\\\\\n",
       "\t C1orf112     & 199.011986   & -1.62012005  & 1.590000e-07\\\\\n",
       "\t FGR          & 122.792530   & -5.60936805  & 7.150000e-17\\\\\n",
       "\\end{tabular}\n"
      ],
      "text/markdown": [
       "\n",
       "gene.name | baseMean | log2FoldChange | padj | \n",
       "|---|---|---|---|---|---|\n",
       "| TSPAN6       |  25.256745   |  1.30246882  | 8.209295e-03 | \n",
       "| TNMD         |   0.288508   | -0.05077872  |           NA | \n",
       "| DPM1         | 163.507773   | -0.05502833  | 9.144493e-01 | \n",
       "| SCYL3        | 296.461713   |  0.27370099  | 3.312390e-01 | \n",
       "| C1orf112     | 199.011986   | -1.62012005  | 1.590000e-07 | \n",
       "| FGR          | 122.792530   | -5.60936805  | 7.150000e-17 | \n",
       "\n",
       "\n"
      ],
      "text/plain": [
       "  gene.name baseMean   log2FoldChange padj        \n",
       "1 TSPAN6     25.256745  1.30246882    8.209295e-03\n",
       "2 TNMD        0.288508 -0.05077872              NA\n",
       "3 DPM1      163.507773 -0.05502833    9.144493e-01\n",
       "4 SCYL3     296.461713  0.27370099    3.312390e-01\n",
       "5 C1orf112  199.011986 -1.62012005    1.590000e-07\n",
       "6 FGR       122.792530 -5.60936805    7.150000e-17"
      ]
     },
     "metadata": {},
     "output_type": "display_data"
    },
    {
     "data": {
      "text/html": [
       "<table>\n",
       "<thead><tr><th scope=col>gene.name</th><th scope=col>baseMean</th><th scope=col>log2FoldChange</th><th scope=col>padj</th></tr></thead>\n",
       "<tbody>\n",
       "\t<tr><td>TSPAN6      </td><td> 25.256745  </td><td> 0.79648366 </td><td>1.592970e-01</td></tr>\n",
       "\t<tr><td>TNMD        </td><td>  0.288508  </td><td> 0.11136908 </td><td>          NA</td></tr>\n",
       "\t<tr><td>DPM1        </td><td>163.507773  </td><td>-0.35399129 </td><td>3.222973e-01</td></tr>\n",
       "\t<tr><td>SCYL3       </td><td>296.461713  </td><td> 0.07204111 </td><td>8.587087e-01</td></tr>\n",
       "\t<tr><td>C1orf112    </td><td>199.011986  </td><td> 0.20171786 </td><td>6.914181e-01</td></tr>\n",
       "\t<tr><td>FGR         </td><td>122.792530  </td><td>-3.99706084 </td><td>1.250000e-09</td></tr>\n",
       "</tbody>\n",
       "</table>\n"
      ],
      "text/latex": [
       "\\begin{tabular}{r|llll}\n",
       " gene.name & baseMean & log2FoldChange & padj\\\\\n",
       "\\hline\n",
       "\t TSPAN6       &  25.256745   &  0.79648366  & 1.592970e-01\\\\\n",
       "\t TNMD         &   0.288508   &  0.11136908  &           NA\\\\\n",
       "\t DPM1         & 163.507773   & -0.35399129  & 3.222973e-01\\\\\n",
       "\t SCYL3        & 296.461713   &  0.07204111  & 8.587087e-01\\\\\n",
       "\t C1orf112     & 199.011986   &  0.20171786  & 6.914181e-01\\\\\n",
       "\t FGR          & 122.792530   & -3.99706084  & 1.250000e-09\\\\\n",
       "\\end{tabular}\n"
      ],
      "text/markdown": [
       "\n",
       "gene.name | baseMean | log2FoldChange | padj | \n",
       "|---|---|---|---|---|---|\n",
       "| TSPAN6       |  25.256745   |  0.79648366  | 1.592970e-01 | \n",
       "| TNMD         |   0.288508   |  0.11136908  |           NA | \n",
       "| DPM1         | 163.507773   | -0.35399129  | 3.222973e-01 | \n",
       "| SCYL3        | 296.461713   |  0.07204111  | 8.587087e-01 | \n",
       "| C1orf112     | 199.011986   |  0.20171786  | 6.914181e-01 | \n",
       "| FGR          | 122.792530   | -3.99706084  | 1.250000e-09 | \n",
       "\n",
       "\n"
      ],
      "text/plain": [
       "  gene.name baseMean   log2FoldChange padj        \n",
       "1 TSPAN6     25.256745  0.79648366    1.592970e-01\n",
       "2 TNMD        0.288508  0.11136908              NA\n",
       "3 DPM1      163.507773 -0.35399129    3.222973e-01\n",
       "4 SCYL3     296.461713  0.07204111    8.587087e-01\n",
       "5 C1orf112  199.011986  0.20171786    6.914181e-01\n",
       "6 FGR       122.792530 -3.99706084    1.250000e-09"
      ]
     },
     "metadata": {},
     "output_type": "display_data"
    }
   ],
   "source": [
    "df.nav.d14.sub <- df.nav.d14[c(\"gene.name\", \"baseMean\", \"log2FoldChange\", \"padj\")]\n",
    "head(df.nav.d14.sub)\n",
    "df.nav.mem.sub <- df.nav.mem[c(\"gene.name\", \"baseMean\", \"log2FoldChange\", \"padj\")]\n",
    "head(df.nav.mem.sub)"
   ]
  },
  {
   "cell_type": "markdown",
   "metadata": {},
   "source": [
    "5.2 Merge the two dataframes (Change column names so that there are no repetative column names. The base mean in two spreadsheets are the same so delete the extra one.) into a dataframe df.nav.d14.mem."
   ]
  },
  {
   "cell_type": "code",
   "execution_count": 23,
   "metadata": {},
   "outputs": [
    {
     "data": {
      "text/html": [
       "<table>\n",
       "<thead><tr><th scope=col>gene.name</th><th scope=col>baseMean</th><th scope=col>log2FoldChange</th><th scope=col>lfcSE</th><th scope=col>stat</th><th scope=col>pvalue</th><th scope=col>padj</th><th scope=col>log2FoldChange</th><th scope=col>lfcSE</th><th scope=col>stat</th><th scope=col>pvalue</th><th scope=col>padj</th></tr></thead>\n",
       "<tbody>\n",
       "\t<tr><td>TSPAN6      </td><td> 25.256745  </td><td> 1.30246882 </td><td>0.4166710   </td><td> 3.1258926  </td><td>1.772662e-03</td><td>8.209295e-03</td><td> 0.79648366 </td><td>0.3778646   </td><td> 2.1078545  </td><td>3.504358e-02</td><td>1.592970e-01</td></tr>\n",
       "\t<tr><td>TNMD        </td><td>  0.288508  </td><td>-0.05077872 </td><td>0.4875003   </td><td>-0.1041614  </td><td>9.170413e-01</td><td>          NA</td><td> 0.11136908 </td><td>0.5380579   </td><td> 0.2069835  </td><td>8.360228e-01</td><td>          NA</td></tr>\n",
       "\t<tr><td>DPM1        </td><td>163.507773  </td><td>-0.05502833 </td><td>0.2492486   </td><td>-0.2207769  </td><td>8.252662e-01</td><td>9.144493e-01</td><td>-0.35399129 </td><td>0.2170358   </td><td>-1.6310274  </td><td>1.028845e-01</td><td>3.222973e-01</td></tr>\n",
       "\t<tr><td>SCYL3       </td><td>296.461713  </td><td> 0.27370099 </td><td>0.1964251   </td><td> 1.3934117  </td><td>1.634953e-01</td><td>3.312390e-01</td><td> 0.07204111 </td><td>0.1698354   </td><td> 0.4241819  </td><td>6.714331e-01</td><td>8.587087e-01</td></tr>\n",
       "\t<tr><td>C1orf112    </td><td>199.011986  </td><td>-1.62012005 </td><td>0.2833121   </td><td>-5.7184998  </td><td>1.070000e-08</td><td>1.590000e-07</td><td> 0.20171786 </td><td>0.2517235   </td><td> 0.8013470  </td><td>4.229308e-01</td><td>6.914181e-01</td></tr>\n",
       "\t<tr><td>FGR         </td><td>122.792530  </td><td>-5.60936805 </td><td>0.6378324   </td><td>-8.7944226  </td><td>1.440000e-18</td><td>7.150000e-17</td><td>-3.99706084 </td><td>0.5938327   </td><td>-6.7309544  </td><td>1.690000e-11</td><td>1.250000e-09</td></tr>\n",
       "</tbody>\n",
       "</table>\n"
      ],
      "text/latex": [
       "\\begin{tabular}{r|llllllllllll}\n",
       " gene.name & baseMean & log2FoldChange & lfcSE & stat & pvalue & padj & log2FoldChange & lfcSE & stat & pvalue & padj\\\\\n",
       "\\hline\n",
       "\t TSPAN6       &  25.256745   &  1.30246882  & 0.4166710    &  3.1258926   & 1.772662e-03 & 8.209295e-03 &  0.79648366  & 0.3778646    &  2.1078545   & 3.504358e-02 & 1.592970e-01\\\\\n",
       "\t TNMD         &   0.288508   & -0.05077872  & 0.4875003    & -0.1041614   & 9.170413e-01 &           NA &  0.11136908  & 0.5380579    &  0.2069835   & 8.360228e-01 &           NA\\\\\n",
       "\t DPM1         & 163.507773   & -0.05502833  & 0.2492486    & -0.2207769   & 8.252662e-01 & 9.144493e-01 & -0.35399129  & 0.2170358    & -1.6310274   & 1.028845e-01 & 3.222973e-01\\\\\n",
       "\t SCYL3        & 296.461713   &  0.27370099  & 0.1964251    &  1.3934117   & 1.634953e-01 & 3.312390e-01 &  0.07204111  & 0.1698354    &  0.4241819   & 6.714331e-01 & 8.587087e-01\\\\\n",
       "\t C1orf112     & 199.011986   & -1.62012005  & 0.2833121    & -5.7184998   & 1.070000e-08 & 1.590000e-07 &  0.20171786  & 0.2517235    &  0.8013470   & 4.229308e-01 & 6.914181e-01\\\\\n",
       "\t FGR          & 122.792530   & -5.60936805  & 0.6378324    & -8.7944226   & 1.440000e-18 & 7.150000e-17 & -3.99706084  & 0.5938327    & -6.7309544   & 1.690000e-11 & 1.250000e-09\\\\\n",
       "\\end{tabular}\n"
      ],
      "text/markdown": [
       "\n",
       "gene.name | baseMean | log2FoldChange | lfcSE | stat | pvalue | padj | log2FoldChange | lfcSE | stat | pvalue | padj | \n",
       "|---|---|---|---|---|---|\n",
       "| TSPAN6       |  25.256745   |  1.30246882  | 0.4166710    |  3.1258926   | 1.772662e-03 | 8.209295e-03 |  0.79648366  | 0.3778646    |  2.1078545   | 3.504358e-02 | 1.592970e-01 | \n",
       "| TNMD         |   0.288508   | -0.05077872  | 0.4875003    | -0.1041614   | 9.170413e-01 |           NA |  0.11136908  | 0.5380579    |  0.2069835   | 8.360228e-01 |           NA | \n",
       "| DPM1         | 163.507773   | -0.05502833  | 0.2492486    | -0.2207769   | 8.252662e-01 | 9.144493e-01 | -0.35399129  | 0.2170358    | -1.6310274   | 1.028845e-01 | 3.222973e-01 | \n",
       "| SCYL3        | 296.461713   |  0.27370099  | 0.1964251    |  1.3934117   | 1.634953e-01 | 3.312390e-01 |  0.07204111  | 0.1698354    |  0.4241819   | 6.714331e-01 | 8.587087e-01 | \n",
       "| C1orf112     | 199.011986   | -1.62012005  | 0.2833121    | -5.7184998   | 1.070000e-08 | 1.590000e-07 |  0.20171786  | 0.2517235    |  0.8013470   | 4.229308e-01 | 6.914181e-01 | \n",
       "| FGR          | 122.792530   | -5.60936805  | 0.6378324    | -8.7944226   | 1.440000e-18 | 7.150000e-17 | -3.99706084  | 0.5938327    | -6.7309544   | 1.690000e-11 | 1.250000e-09 | \n",
       "\n",
       "\n"
      ],
      "text/plain": [
       "  gene.name baseMean   log2FoldChange lfcSE     stat       pvalue      \n",
       "1 TSPAN6     25.256745  1.30246882    0.4166710  3.1258926 1.772662e-03\n",
       "2 TNMD        0.288508 -0.05077872    0.4875003 -0.1041614 9.170413e-01\n",
       "3 DPM1      163.507773 -0.05502833    0.2492486 -0.2207769 8.252662e-01\n",
       "4 SCYL3     296.461713  0.27370099    0.1964251  1.3934117 1.634953e-01\n",
       "5 C1orf112  199.011986 -1.62012005    0.2833121 -5.7184998 1.070000e-08\n",
       "6 FGR       122.792530 -5.60936805    0.6378324 -8.7944226 1.440000e-18\n",
       "  padj         log2FoldChange lfcSE     stat       pvalue       padj        \n",
       "1 8.209295e-03  0.79648366    0.3778646  2.1078545 3.504358e-02 1.592970e-01\n",
       "2           NA  0.11136908    0.5380579  0.2069835 8.360228e-01           NA\n",
       "3 9.144493e-01 -0.35399129    0.2170358 -1.6310274 1.028845e-01 3.222973e-01\n",
       "4 3.312390e-01  0.07204111    0.1698354  0.4241819 6.714331e-01 8.587087e-01\n",
       "5 1.590000e-07  0.20171786    0.2517235  0.8013470 4.229308e-01 6.914181e-01\n",
       "6 7.150000e-17 -3.99706084    0.5938327 -6.7309544 1.690000e-11 1.250000e-09"
      ]
     },
     "metadata": {},
     "output_type": "display_data"
    }
   ],
   "source": [
    "df.nav.d14.mem <- cbind(df.nav.d14, df.nav.mem[c(\"log2FoldChange\", \"lfcSE\", \"stat\", \"pvalue\", \"padj\")])\n",
    "head(df.nav.d14.mem) "
   ]
  },
  {
   "cell_type": "markdown",
   "metadata": {},
   "source": [
    "5.3 Sort the new dataframe on \" baseMean\"."
   ]
  },
  {
   "cell_type": "code",
   "execution_count": 24,
   "metadata": {},
   "outputs": [
    {
     "data": {
      "text/html": [
       "<table>\n",
       "<thead><tr><th></th><th scope=col>gene.name</th><th scope=col>baseMean</th><th scope=col>log2FoldChange</th><th scope=col>lfcSE</th><th scope=col>stat</th><th scope=col>pvalue</th><th scope=col>padj</th><th scope=col>log2FoldChange</th><th scope=col>lfcSE</th><th scope=col>stat</th><th scope=col>pvalue</th><th scope=col>padj</th></tr></thead>\n",
       "<tbody>\n",
       "\t<tr><th scope=row>78</th><td>HOXA11     </td><td>0.05932533 </td><td> 0.08516965</td><td>0.4857462  </td><td> 0.1753378 </td><td>0.8608142  </td><td>NA         </td><td> 0.03467809</td><td>0.5378378  </td><td> 0.06447686</td><td>0.9485905  </td><td>NA         </td></tr>\n",
       "\t<tr><th scope=row>143</th><td>CCL26      </td><td>0.09053621 </td><td> 0.00000000</td><td>0.4857462  </td><td> 0.0000000 </td><td>1.0000000  </td><td>NA         </td><td>-0.12804415</td><td>0.5378378  </td><td>-0.23807208</td><td>0.8118252  </td><td>NA         </td></tr>\n",
       "\t<tr><th scope=row>177</th><td>CEACAM7    </td><td>0.11865065 </td><td> 0.15015459</td><td>0.4857462  </td><td> 0.3091215 </td><td>0.7572291  </td><td>NA         </td><td> 0.11006061</td><td>0.5378378  </td><td> 0.20463534</td><td>0.8378570  </td><td>NA         </td></tr>\n",
       "\t<tr><th scope=row>399</th><td>CCT8L1P    </td><td>0.14345538 </td><td> 0.06952303</td><td>0.4857462  </td><td> 0.1431262 </td><td>0.8861905  </td><td>NA         </td><td>-0.05276310</td><td>0.5378378  </td><td>-0.09810226</td><td>0.9218511  </td><td>NA         </td></tr>\n",
       "\t<tr><th scope=row>382</th><td>ZNF806     </td><td>0.15787023 </td><td>-0.11999276</td><td>0.4857462  </td><td>-0.2470277 </td><td>0.8048868  </td><td>NA         </td><td> 0.02561065</td><td>0.5378378  </td><td> 0.04761780</td><td>0.9620208  </td><td>NA         </td></tr>\n",
       "\t<tr><th scope=row>121</th><td>KRT33A     </td><td>0.21961349 </td><td>-0.05017946</td><td>0.4858590  </td><td>-0.1032799 </td><td>0.9177408  </td><td>NA         </td><td> 0.10178886</td><td>0.5378379  </td><td> 0.18925565</td><td>0.8498925  </td><td>NA         </td></tr>\n",
       "</tbody>\n",
       "</table>\n"
      ],
      "text/latex": [
       "\\begin{tabular}{r|llllllllllll}\n",
       "  & gene.name & baseMean & log2FoldChange & lfcSE & stat & pvalue & padj & log2FoldChange & lfcSE & stat & pvalue & padj\\\\\n",
       "\\hline\n",
       "\t78 & HOXA11      & 0.05932533  &  0.08516965 & 0.4857462   &  0.1753378  & 0.8608142   & NA          &  0.03467809 & 0.5378378   &  0.06447686 & 0.9485905   & NA         \\\\\n",
       "\t143 & CCL26       & 0.09053621  &  0.00000000 & 0.4857462   &  0.0000000  & 1.0000000   & NA          & -0.12804415 & 0.5378378   & -0.23807208 & 0.8118252   & NA         \\\\\n",
       "\t177 & CEACAM7     & 0.11865065  &  0.15015459 & 0.4857462   &  0.3091215  & 0.7572291   & NA          &  0.11006061 & 0.5378378   &  0.20463534 & 0.8378570   & NA         \\\\\n",
       "\t399 & CCT8L1P     & 0.14345538  &  0.06952303 & 0.4857462   &  0.1431262  & 0.8861905   & NA          & -0.05276310 & 0.5378378   & -0.09810226 & 0.9218511   & NA         \\\\\n",
       "\t382 & ZNF806      & 0.15787023  & -0.11999276 & 0.4857462   & -0.2470277  & 0.8048868   & NA          &  0.02561065 & 0.5378378   &  0.04761780 & 0.9620208   & NA         \\\\\n",
       "\t121 & KRT33A      & 0.21961349  & -0.05017946 & 0.4858590   & -0.1032799  & 0.9177408   & NA          &  0.10178886 & 0.5378379   &  0.18925565 & 0.8498925   & NA         \\\\\n",
       "\\end{tabular}\n"
      ],
      "text/markdown": [
       "\n",
       "| <!--/--> | gene.name | baseMean | log2FoldChange | lfcSE | stat | pvalue | padj | log2FoldChange | lfcSE | stat | pvalue | padj | \n",
       "|---|---|---|---|---|---|\n",
       "| 78 | HOXA11      | 0.05932533  |  0.08516965 | 0.4857462   |  0.1753378  | 0.8608142   | NA          |  0.03467809 | 0.5378378   |  0.06447686 | 0.9485905   | NA          | \n",
       "| 143 | CCL26       | 0.09053621  |  0.00000000 | 0.4857462   |  0.0000000  | 1.0000000   | NA          | -0.12804415 | 0.5378378   | -0.23807208 | 0.8118252   | NA          | \n",
       "| 177 | CEACAM7     | 0.11865065  |  0.15015459 | 0.4857462   |  0.3091215  | 0.7572291   | NA          |  0.11006061 | 0.5378378   |  0.20463534 | 0.8378570   | NA          | \n",
       "| 399 | CCT8L1P     | 0.14345538  |  0.06952303 | 0.4857462   |  0.1431262  | 0.8861905   | NA          | -0.05276310 | 0.5378378   | -0.09810226 | 0.9218511   | NA          | \n",
       "| 382 | ZNF806      | 0.15787023  | -0.11999276 | 0.4857462   | -0.2470277  | 0.8048868   | NA          |  0.02561065 | 0.5378378   |  0.04761780 | 0.9620208   | NA          | \n",
       "| 121 | KRT33A      | 0.21961349  | -0.05017946 | 0.4858590   | -0.1032799  | 0.9177408   | NA          |  0.10178886 | 0.5378379   |  0.18925565 | 0.8498925   | NA          | \n",
       "\n",
       "\n"
      ],
      "text/plain": [
       "    gene.name baseMean   log2FoldChange lfcSE     stat       pvalue    padj\n",
       "78  HOXA11    0.05932533  0.08516965    0.4857462  0.1753378 0.8608142 NA  \n",
       "143 CCL26     0.09053621  0.00000000    0.4857462  0.0000000 1.0000000 NA  \n",
       "177 CEACAM7   0.11865065  0.15015459    0.4857462  0.3091215 0.7572291 NA  \n",
       "399 CCT8L1P   0.14345538  0.06952303    0.4857462  0.1431262 0.8861905 NA  \n",
       "382 ZNF806    0.15787023 -0.11999276    0.4857462 -0.2470277 0.8048868 NA  \n",
       "121 KRT33A    0.21961349 -0.05017946    0.4858590 -0.1032799 0.9177408 NA  \n",
       "    log2FoldChange lfcSE     stat        pvalue    padj\n",
       "78   0.03467809    0.5378378  0.06447686 0.9485905 NA  \n",
       "143 -0.12804415    0.5378378 -0.23807208 0.8118252 NA  \n",
       "177  0.11006061    0.5378378  0.20463534 0.8378570 NA  \n",
       "399 -0.05276310    0.5378378 -0.09810226 0.9218511 NA  \n",
       "382  0.02561065    0.5378378  0.04761780 0.9620208 NA  \n",
       "121  0.10178886    0.5378379  0.18925565 0.8498925 NA  "
      ]
     },
     "metadata": {},
     "output_type": "display_data"
    }
   ],
   "source": [
    "df.nav.d14.mem <- df.nav.d14.mem[order(df.nav.d14.mem$baseMean),]\n",
    "head(df.nav.d14.mem)"
   ]
  },
  {
   "cell_type": "markdown",
   "metadata": {},
   "source": [
    "5.4 Define a function to evaluate padj output:\n",
    "- padj > 0.05: nonsig\n",
    "- padj <= 0.05: sig"
   ]
  },
  {
   "cell_type": "code",
   "execution_count": 25,
   "metadata": {},
   "outputs": [],
   "source": [
    "padjT <- function(x) {\n",
    "    if (is.na(x)) {\n",
    "        return(NA)\n",
    "    }\n",
    "    else if (x > 0.05) {\n",
    "        return(\"nonsig\")\n",
    "    } \n",
    "    else {\n",
    "        return(\"sig\")\n",
    "    }\n",
    " }   "
   ]
  },
  {
   "cell_type": "markdown",
   "metadata": {},
   "source": [
    "5.5 Use lapply to apply the function to padj of subsetted dataframes nav.mem and nav.d14 (not the combined df.nav.d14.mem) and create one column to add the evaluation result."
   ]
  },
  {
   "cell_type": "code",
   "execution_count": 26,
   "metadata": {},
   "outputs": [
    {
     "data": {
      "text/html": [
       "<table>\n",
       "<thead><tr><th scope=col>gene.name</th><th scope=col>baseMean</th><th scope=col>log2FoldChange</th><th scope=col>padj</th><th scope=col>df.nav.sig</th></tr></thead>\n",
       "<tbody>\n",
       "\t<tr><td>TSPAN6      </td><td> 25.256745  </td><td> 1.30246882 </td><td>8.209295e-03</td><td>sig         </td></tr>\n",
       "\t<tr><td>TNMD        </td><td>  0.288508  </td><td>-0.05077872 </td><td>          NA</td><td>NA          </td></tr>\n",
       "\t<tr><td>DPM1        </td><td>163.507773  </td><td>-0.05502833 </td><td>9.144493e-01</td><td>nonsig      </td></tr>\n",
       "\t<tr><td>SCYL3       </td><td>296.461713  </td><td> 0.27370099 </td><td>3.312390e-01</td><td>nonsig      </td></tr>\n",
       "\t<tr><td>C1orf112    </td><td>199.011986  </td><td>-1.62012005 </td><td>1.590000e-07</td><td>sig         </td></tr>\n",
       "\t<tr><td>FGR         </td><td>122.792530  </td><td>-5.60936805 </td><td>7.150000e-17</td><td>sig         </td></tr>\n",
       "</tbody>\n",
       "</table>\n"
      ],
      "text/latex": [
       "\\begin{tabular}{r|lllll}\n",
       " gene.name & baseMean & log2FoldChange & padj & df.nav.sig\\\\\n",
       "\\hline\n",
       "\t TSPAN6       &  25.256745   &  1.30246882  & 8.209295e-03 & sig         \\\\\n",
       "\t TNMD         &   0.288508   & -0.05077872  &           NA & NA          \\\\\n",
       "\t DPM1         & 163.507773   & -0.05502833  & 9.144493e-01 & nonsig      \\\\\n",
       "\t SCYL3        & 296.461713   &  0.27370099  & 3.312390e-01 & nonsig      \\\\\n",
       "\t C1orf112     & 199.011986   & -1.62012005  & 1.590000e-07 & sig         \\\\\n",
       "\t FGR          & 122.792530   & -5.60936805  & 7.150000e-17 & sig         \\\\\n",
       "\\end{tabular}\n"
      ],
      "text/markdown": [
       "\n",
       "gene.name | baseMean | log2FoldChange | padj | df.nav.sig | \n",
       "|---|---|---|---|---|---|\n",
       "| TSPAN6       |  25.256745   |  1.30246882  | 8.209295e-03 | sig          | \n",
       "| TNMD         |   0.288508   | -0.05077872  |           NA | NA           | \n",
       "| DPM1         | 163.507773   | -0.05502833  | 9.144493e-01 | nonsig       | \n",
       "| SCYL3        | 296.461713   |  0.27370099  | 3.312390e-01 | nonsig       | \n",
       "| C1orf112     | 199.011986   | -1.62012005  | 1.590000e-07 | sig          | \n",
       "| FGR          | 122.792530   | -5.60936805  | 7.150000e-17 | sig          | \n",
       "\n",
       "\n"
      ],
      "text/plain": [
       "  gene.name baseMean   log2FoldChange padj         df.nav.sig\n",
       "1 TSPAN6     25.256745  1.30246882    8.209295e-03 sig       \n",
       "2 TNMD        0.288508 -0.05077872              NA NA        \n",
       "3 DPM1      163.507773 -0.05502833    9.144493e-01 nonsig    \n",
       "4 SCYL3     296.461713  0.27370099    3.312390e-01 nonsig    \n",
       "5 C1orf112  199.011986 -1.62012005    1.590000e-07 sig       \n",
       "6 FGR       122.792530 -5.60936805    7.150000e-17 sig       "
      ]
     },
     "metadata": {},
     "output_type": "display_data"
    },
    {
     "data": {
      "text/html": [
       "<table>\n",
       "<thead><tr><th scope=col>gene.name</th><th scope=col>baseMean</th><th scope=col>log2FoldChange</th><th scope=col>padj</th><th scope=col>df.nav.mem.sig</th></tr></thead>\n",
       "<tbody>\n",
       "\t<tr><td>TSPAN6      </td><td> 25.256745  </td><td> 0.79648366 </td><td>1.592970e-01</td><td>nonsig      </td></tr>\n",
       "\t<tr><td>TNMD        </td><td>  0.288508  </td><td> 0.11136908 </td><td>          NA</td><td>NA          </td></tr>\n",
       "\t<tr><td>DPM1        </td><td>163.507773  </td><td>-0.35399129 </td><td>3.222973e-01</td><td>nonsig      </td></tr>\n",
       "\t<tr><td>SCYL3       </td><td>296.461713  </td><td> 0.07204111 </td><td>8.587087e-01</td><td>nonsig      </td></tr>\n",
       "\t<tr><td>C1orf112    </td><td>199.011986  </td><td> 0.20171786 </td><td>6.914181e-01</td><td>nonsig      </td></tr>\n",
       "\t<tr><td>FGR         </td><td>122.792530  </td><td>-3.99706084 </td><td>1.250000e-09</td><td>sig         </td></tr>\n",
       "</tbody>\n",
       "</table>\n"
      ],
      "text/latex": [
       "\\begin{tabular}{r|lllll}\n",
       " gene.name & baseMean & log2FoldChange & padj & df.nav.mem.sig\\\\\n",
       "\\hline\n",
       "\t TSPAN6       &  25.256745   &  0.79648366  & 1.592970e-01 & nonsig      \\\\\n",
       "\t TNMD         &   0.288508   &  0.11136908  &           NA & NA          \\\\\n",
       "\t DPM1         & 163.507773   & -0.35399129  & 3.222973e-01 & nonsig      \\\\\n",
       "\t SCYL3        & 296.461713   &  0.07204111  & 8.587087e-01 & nonsig      \\\\\n",
       "\t C1orf112     & 199.011986   &  0.20171786  & 6.914181e-01 & nonsig      \\\\\n",
       "\t FGR          & 122.792530   & -3.99706084  & 1.250000e-09 & sig         \\\\\n",
       "\\end{tabular}\n"
      ],
      "text/markdown": [
       "\n",
       "gene.name | baseMean | log2FoldChange | padj | df.nav.mem.sig | \n",
       "|---|---|---|---|---|---|\n",
       "| TSPAN6       |  25.256745   |  0.79648366  | 1.592970e-01 | nonsig       | \n",
       "| TNMD         |   0.288508   |  0.11136908  |           NA | NA           | \n",
       "| DPM1         | 163.507773   | -0.35399129  | 3.222973e-01 | nonsig       | \n",
       "| SCYL3        | 296.461713   |  0.07204111  | 8.587087e-01 | nonsig       | \n",
       "| C1orf112     | 199.011986   |  0.20171786  | 6.914181e-01 | nonsig       | \n",
       "| FGR          | 122.792530   | -3.99706084  | 1.250000e-09 | sig          | \n",
       "\n",
       "\n"
      ],
      "text/plain": [
       "  gene.name baseMean   log2FoldChange padj         df.nav.mem.sig\n",
       "1 TSPAN6     25.256745  0.79648366    1.592970e-01 nonsig        \n",
       "2 TNMD        0.288508  0.11136908              NA NA            \n",
       "3 DPM1      163.507773 -0.35399129    3.222973e-01 nonsig        \n",
       "4 SCYL3     296.461713  0.07204111    8.587087e-01 nonsig        \n",
       "5 C1orf112  199.011986  0.20171786    6.914181e-01 nonsig        \n",
       "6 FGR       122.792530 -3.99706084    1.250000e-09 sig           "
      ]
     },
     "metadata": {},
     "output_type": "display_data"
    }
   ],
   "source": [
    "df.nav.sig <- lapply(df.nav.d14.sub$padj, padjT)\n",
    "df.nav.sig <- unlist (df.nav.sig)\n",
    "df.nav.d14.sub <- cbind(df.nav.d14.sub, df.nav.sig)\n",
    "head(df.nav.d14.sub)\n",
    "\n",
    "df.nav.mem.sig <- lapply(df.nav.mem.sub$padj, padjT)\n",
    "df.nav.mem.sig <- unlist (df.nav.mem.sig)\n",
    "df.nav.mem.sub <- cbind(df.nav.mem.sub, df.nav.mem.sig)\n",
    "head(df.nav.mem.sub)"
   ]
  },
  {
   "cell_type": "markdown",
   "metadata": {},
   "source": [
    "## Install Swirl,  do \"R programming\" and \"Data analysis\"\n",
    "https://swirlstats.com/students.html"
   ]
  }
 ],
 "metadata": {
  "kernelspec": {
   "display_name": "R",
   "language": "R",
   "name": "ir"
  },
  "language_info": {
   "codemirror_mode": "r",
   "file_extension": ".r",
   "mimetype": "text/x-r-source",
   "name": "R",
   "pygments_lexer": "r",
   "version": "3.5.1"
  }
 },
 "nbformat": 4,
 "nbformat_minor": 2
}
